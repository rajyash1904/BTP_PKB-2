{
  "nbformat": 4,
  "nbformat_minor": 0,
  "metadata": {
    "colab": {
      "name": "main.ipynb",
      "provenance": [],
      "collapsed_sections": [],
      "mount_file_id": "10XMcLc3ftqujwOQTWEQYTNDyq-r7IM9D",
      "authorship_tag": "ABX9TyNTq4/iM4De92/W2riJfFUh",
      "include_colab_link": true
    },
    "kernelspec": {
      "name": "python3",
      "display_name": "Python 3"
    },
    "accelerator": "GPU"
  },
  "cells": [
    {
      "cell_type": "markdown",
      "metadata": {
        "id": "view-in-github",
        "colab_type": "text"
      },
      "source": [
        "<a href=\"https://colab.research.google.com/github/rajyash1904/BTP_PKB-2/blob/main/main.ipynb\" target=\"_parent\"><img src=\"https://colab.research.google.com/assets/colab-badge.svg\" alt=\"Open In Colab\"/></a>"
      ]
    },
    {
      "cell_type": "code",
      "metadata": {
        "id": "B7I_1BOnd_dO",
        "colab": {
          "base_uri": "https://localhost:8080/"
        },
        "outputId": "78845068-974a-49da-f1b9-1531098cc63e"
      },
      "source": [
        "from google.colab import drive\r\n",
        "drive.mount(\"/content/drive\")"
      ],
      "execution_count": 5,
      "outputs": [
        {
          "output_type": "stream",
          "text": [
            "Drive already mounted at /content/drive; to attempt to forcibly remount, call drive.mount(\"/content/drive\", force_remount=True).\n"
          ],
          "name": "stdout"
        }
      ]
    },
    {
      "cell_type": "code",
      "metadata": {
        "id": "FyZYh8R7Wd_f"
      },
      "source": [
        "import open3d as o3d\r\n",
        "import numpy as np\r\n",
        "import vedo\r\n",
        "import time"
      ],
      "execution_count": 9,
      "outputs": []
    },
    {
      "cell_type": "code",
      "metadata": {
        "colab": {
          "base_uri": "https://localhost:8080/"
        },
        "id": "GJ07SPwpWiRx",
        "outputId": "741e3f1a-178a-46df-b4d4-117d71f3f359"
      },
      "source": [
        "start = time.time()\r\n",
        "data = np.loadtxt('drive/MyDrive/btp/sample.xyz',skiprows=1)\r\n",
        "end = time.time()\r\n",
        "print('read, time taken:',end-start)"
      ],
      "execution_count": 10,
      "outputs": [
        {
          "output_type": "stream",
          "text": [
            "read, time taken: 11.729884147644043\n"
          ],
          "name": "stdout"
        }
      ]
    },
    {
      "cell_type": "code",
      "metadata": {
        "colab": {
          "base_uri": "https://localhost:8080/"
        },
        "id": "AVvysjr_bl9S",
        "outputId": "ef9c4a8f-05dd-4aec-a48c-11de2370c6d2"
      },
      "source": [
        "start = time.time()\r\n",
        "x = vedo.pointcloud.Points(data[:,:3],c=data[:,3:])\r\n",
        "end = time.time()\r\n",
        "print('store, time taken:',end-start)"
      ],
      "execution_count": 11,
      "outputs": [
        {
          "output_type": "stream",
          "text": [
            "store, time taken: 130.15130162239075\n"
          ],
          "name": "stdout"
        }
      ]
    },
    {
      "cell_type": "code",
      "metadata": {
        "id": "5Gu70PXmYMgQ"
      },
      "source": [
        "start = time.time()\r\n",
        "vedo.show(x)\r\n",
        "end = time.time()\r\n",
        "print('plot, time taken:',end-start)"
      ],
      "execution_count": null,
      "outputs": []
    },
    {
      "cell_type": "code",
      "metadata": {
        "id": "ctMRAKrfa3t4"
      },
      "source": [
        "!pip install -q --upgrade ipython==5.5.0\r\n",
        "!pip install -q --upgrade ipykernel==4.10\r\n"
      ],
      "execution_count": 4,
      "outputs": []
    }
  ]
}