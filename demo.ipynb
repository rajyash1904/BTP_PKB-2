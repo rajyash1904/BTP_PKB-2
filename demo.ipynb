{
  "nbformat": 4,
  "nbformat_minor": 0,
  "metadata": {
    "colab": {
      "name": "main.ipynb",
      "provenance": [],
      "collapsed_sections": [],
      "include_colab_link": true
    },
    "kernelspec": {
      "name": "python_defaultSpec_1614533841144",
      "display_name": "Python 3.6.9 64-bit",
      "metadata": {
        "interpreter": {
          "hash": "96577a8ae677715224a155aadf443073c88bd8ef74883d435f683b6fa75e1050"
        }
      }
    }
  },
  "cells": [
    {
      "cell_type": "markdown",
      "metadata": {
        "id": "view-in-github",
        "colab_type": "text"
      },
      "source": [
        "<a href=\"https://colab.research.google.com/github/rajyash1904/BTP_PKB-2/blob/main/main.ipynb\" target=\"_parent\"><img src=\"https://colab.research.google.com/assets/colab-badge.svg\" alt=\"Open In Colab\"/></a>"
      ]
    },
    {
      "cell_type": "code",
      "metadata": {
        "id": "vLhLmrhkr5po",
        "colab": {
          "base_uri": "https://localhost:8080/"
        },
        "outputId": "d50cfd63-57aa-41e6-9730-5b037d84d300"
      },
      "source": [
        "# New project"
      ],
      "execution_count": 2,
      "outputs": []
    },
    {
      "cell_type": "code",
      "execution_count": 1,
      "metadata": {
        "tags": []
      },
      "outputs": [],
      "source": [
        "import os\n",
        "import time\n",
        "import numpy as np\n",
        "import tensorflow as tf\n",
        "import matplotlib.pylab as plt\n",
        "import pandas as pd\n",
        "tf.enable_eager_execution()"
      ]
    },
    {
      "cell_type": "code",
      "execution_count": 2,
      "metadata": {
        "tags": []
      },
      "outputs": [
        {
          "output_type": "stream",
          "name": "stdout",
          "text": "1.13.1\nFalse\n"
        }
      ],
      "source": [
        "print(tf.__version__)\n",
        "print(tf.test.is_gpu_available())"
      ]
    },
    {
      "source": [
        "Set GPU/CPU"
      ],
      "cell_type": "markdown",
      "metadata": {}
    },
    {
      "cell_type": "code",
      "execution_count": 3,
      "metadata": {},
      "outputs": [],
      "source": [
        "# OS.ENVIRON['CUDA_VISIBLE_DEVICES']=\"\" #ONLY CPU\n",
        "\n",
        "config = tf.ConfigProto()\n",
        "#config = tf.compat.v1.ConfigProto\n",
        "config.gpu_options.per_process_gpu_memory_fraction = 0.5\n",
        "config.gpu_options.allow_growth = True\n",
        "config.log_device_placement = True\n",
        "#config.device_count={'gpu':0}\n",
        "sess = tf.Session(config=config)"
      ]
    },
    {
      "cell_type": "code",
      "execution_count": 4,
      "metadata": {},
      "outputs": [],
      "source": [
        "from process import preprocess"
      ]
    },
    {
      "cell_type": "code",
      "execution_count": 5,
      "metadata": {},
      "outputs": [],
      "source": [
        "input_file = 'figs/longdress_vox10_1300.ply'\n",
        "scale = 1\n",
        "cube_size = 64\n",
        "min_num = 64\n",
        "res = 1024"
      ]
    },
    {
      "cell_type": "code",
      "execution_count": 6,
      "metadata": {
        "tags": []
      },
      "outputs": [
        {
          "output_type": "stream",
          "name": "stdout",
          "text": "==== Preprocess ====\nScaling: 0.0s\nPartition: 59.4538s\nVoxelisation: 30.9972s\nCubes shape: (202, 64, 64, 64, 1)\npoints numbers (sum/mean/max/min): 857600 4246 11450 78\n"
        }
      ],
      "source": [
        "cubes, cube_positions, points_numbers = preprocess(input_file, scale, cube_size, min_num)"
      ]
    },
    {
      "cell_type": "code",
      "execution_count": 7,
      "metadata": {
        "tags": []
      },
      "outputs": [
        {
          "output_type": "stream",
          "name": "stdout",
          "text": "point_numbers (min/max/mean): 78 11450 4245\n"
        },
        {
          "output_type": "display_data",
          "data": {
            "text/plain": "<Figure size 720x144 with 1 Axes>",
            "image/svg+xml": "<?xml version=\"1.0\" encoding=\"utf-8\" standalone=\"no\"?>\n<!DOCTYPE svg PUBLIC \"-//W3C//DTD SVG 1.1//EN\"\n  \"http://www.w3.org/Graphics/SVG/1.1/DTD/svg11.dtd\">\n<!-- Created with matplotlib (https://matplotlib.org/) -->\n<svg height=\"154.91625pt\" version=\"1.1\" viewBox=\"0 0 592.125 154.91625\" width=\"592.125pt\" xmlns=\"http://www.w3.org/2000/svg\" xmlns:xlink=\"http://www.w3.org/1999/xlink\">\n <metadata>\n  <rdf:RDF xmlns:cc=\"http://creativecommons.org/ns#\" xmlns:dc=\"http://purl.org/dc/elements/1.1/\" xmlns:rdf=\"http://www.w3.org/1999/02/22-rdf-syntax-ns#\">\n   <cc:Work>\n    <dc:type rdf:resource=\"http://purl.org/dc/dcmitype/StillImage\"/>\n    <dc:date>2021-02-28T23:10:39.948538</dc:date>\n    <dc:format>image/svg+xml</dc:format>\n    <dc:creator>\n     <cc:Agent>\n      <dc:title>Matplotlib v3.3.4, https://matplotlib.org/</dc:title>\n     </cc:Agent>\n    </dc:creator>\n   </cc:Work>\n  </rdf:RDF>\n </metadata>\n <defs>\n  <style type=\"text/css\">*{stroke-linecap:butt;stroke-linejoin:round;}</style>\n </defs>\n <g id=\"figure_1\">\n  <g id=\"patch_1\">\n   <path d=\"M 0 154.91625 \nL 592.125 154.91625 \nL 592.125 0 \nL 0 0 \nz\n\" style=\"fill:none;\"/>\n  </g>\n  <g id=\"axes_1\">\n   <g id=\"patch_2\">\n    <path d=\"M 26.925 131.038125 \nL 584.925 131.038125 \nL 584.925 22.318125 \nL 26.925 22.318125 \nz\n\" style=\"fill:#ffffff;\"/>\n   </g>\n   <g id=\"patch_3\">\n    <path clip-path=\"url(#pe87ccaf904)\" d=\"M 52.288636 131.038125 \nL 54.27017 131.038125 \nL 54.27017 68.912411 \nL 52.288636 68.912411 \nz\n\" style=\"fill:#1f77b4;\"/>\n   </g>\n   <g id=\"patch_4\">\n    <path clip-path=\"url(#pe87ccaf904)\" d=\"M 54.27017 131.038125 \nL 56.251705 131.038125 \nL 56.251705 27.495268 \nL 54.27017 27.495268 \nz\n\" style=\"fill:#1f77b4;\"/>\n   </g>\n   <g id=\"patch_5\">\n    <path clip-path=\"url(#pe87ccaf904)\" d=\"M 56.251705 131.038125 \nL 58.233239 131.038125 \nL 58.233239 117.232411 \nL 56.251705 117.232411 \nz\n\" style=\"fill:#1f77b4;\"/>\n   </g>\n   <g id=\"patch_6\">\n    <path clip-path=\"url(#pe87ccaf904)\" d=\"M 58.233239 131.038125 \nL 60.214773 131.038125 \nL 60.214773 68.912411 \nL 58.233239 68.912411 \nz\n\" style=\"fill:#1f77b4;\"/>\n   </g>\n   <g id=\"patch_7\">\n    <path clip-path=\"url(#pe87ccaf904)\" d=\"M 60.214773 131.038125 \nL 62.196307 131.038125 \nL 62.196307 103.426696 \nL 60.214773 103.426696 \nz\n\" style=\"fill:#1f77b4;\"/>\n   </g>\n   <g id=\"patch_8\">\n    <path clip-path=\"url(#pe87ccaf904)\" d=\"M 62.196307 131.038125 \nL 64.177841 131.038125 \nL 64.177841 103.426696 \nL 62.196307 103.426696 \nz\n\" style=\"fill:#1f77b4;\"/>\n   </g>\n   <g id=\"patch_9\">\n    <path clip-path=\"url(#pe87ccaf904)\" d=\"M 64.177841 131.038125 \nL 66.159375 131.038125 \nL 66.159375 110.329554 \nL 64.177841 110.329554 \nz\n\" style=\"fill:#1f77b4;\"/>\n   </g>\n   <g id=\"patch_10\">\n    <path clip-path=\"url(#pe87ccaf904)\" d=\"M 66.159375 131.038125 \nL 68.140909 131.038125 \nL 68.140909 68.912411 \nL 66.159375 68.912411 \nz\n\" style=\"fill:#1f77b4;\"/>\n   </g>\n   <g id=\"patch_11\">\n    <path clip-path=\"url(#pe87ccaf904)\" d=\"M 68.140909 131.038125 \nL 70.122443 131.038125 \nL 70.122443 82.718125 \nL 68.140909 82.718125 \nz\n\" style=\"fill:#1f77b4;\"/>\n   </g>\n   <g id=\"patch_12\">\n    <path clip-path=\"url(#pe87ccaf904)\" d=\"M 70.122443 131.038125 \nL 72.103977 131.038125 \nL 72.103977 110.329554 \nL 70.122443 110.329554 \nz\n\" style=\"fill:#1f77b4;\"/>\n   </g>\n   <g id=\"patch_13\">\n    <path clip-path=\"url(#pe87ccaf904)\" d=\"M 72.103977 131.038125 \nL 74.085511 131.038125 \nL 74.085511 89.620982 \nL 72.103977 89.620982 \nz\n\" style=\"fill:#1f77b4;\"/>\n   </g>\n   <g id=\"patch_14\">\n    <path clip-path=\"url(#pe87ccaf904)\" d=\"M 74.085511 131.038125 \nL 76.067045 131.038125 \nL 76.067045 96.523839 \nL 74.085511 96.523839 \nz\n\" style=\"fill:#1f77b4;\"/>\n   </g>\n   <g id=\"patch_15\">\n    <path clip-path=\"url(#pe87ccaf904)\" d=\"M 76.067045 131.038125 \nL 78.04858 131.038125 \nL 78.04858 110.329554 \nL 76.067045 110.329554 \nz\n\" style=\"fill:#1f77b4;\"/>\n   </g>\n   <g id=\"patch_16\">\n    <path clip-path=\"url(#pe87ccaf904)\" d=\"M 78.04858 131.038125 \nL 80.030114 131.038125 \nL 80.030114 110.329554 \nL 78.04858 110.329554 \nz\n\" style=\"fill:#1f77b4;\"/>\n   </g>\n   <g id=\"patch_17\">\n    <path clip-path=\"url(#pe87ccaf904)\" d=\"M 80.030114 131.038125 \nL 82.011648 131.038125 \nL 82.011648 68.912411 \nL 80.030114 68.912411 \nz\n\" style=\"fill:#1f77b4;\"/>\n   </g>\n   <g id=\"patch_18\">\n    <path clip-path=\"url(#pe87ccaf904)\" d=\"M 82.011648 131.038125 \nL 83.993182 131.038125 \nL 83.993182 103.426696 \nL 82.011648 103.426696 \nz\n\" style=\"fill:#1f77b4;\"/>\n   </g>\n   <g id=\"patch_19\">\n    <path clip-path=\"url(#pe87ccaf904)\" d=\"M 83.993182 131.038125 \nL 85.974716 131.038125 \nL 85.974716 117.232411 \nL 83.993182 117.232411 \nz\n\" style=\"fill:#1f77b4;\"/>\n   </g>\n   <g id=\"patch_20\">\n    <path clip-path=\"url(#pe87ccaf904)\" d=\"M 85.974716 131.038125 \nL 87.95625 131.038125 \nL 87.95625 110.329554 \nL 85.974716 110.329554 \nz\n\" style=\"fill:#1f77b4;\"/>\n   </g>\n   <g id=\"patch_21\">\n    <path clip-path=\"url(#pe87ccaf904)\" d=\"M 87.95625 131.038125 \nL 89.937784 131.038125 \nL 89.937784 89.620982 \nL 87.95625 89.620982 \nz\n\" style=\"fill:#1f77b4;\"/>\n   </g>\n   <g id=\"patch_22\">\n    <path clip-path=\"url(#pe87ccaf904)\" d=\"M 89.937784 131.038125 \nL 91.919318 131.038125 \nL 91.919318 48.203839 \nL 89.937784 48.203839 \nz\n\" style=\"fill:#1f77b4;\"/>\n   </g>\n   <g id=\"patch_23\">\n    <path clip-path=\"url(#pe87ccaf904)\" d=\"M 91.919318 131.038125 \nL 93.900852 131.038125 \nL 93.900852 55.106696 \nL 91.919318 55.106696 \nz\n\" style=\"fill:#1f77b4;\"/>\n   </g>\n   <g id=\"patch_24\">\n    <path clip-path=\"url(#pe87ccaf904)\" d=\"M 93.900852 131.038125 \nL 95.882386 131.038125 \nL 95.882386 96.523839 \nL 93.900852 96.523839 \nz\n\" style=\"fill:#1f77b4;\"/>\n   </g>\n   <g id=\"patch_25\">\n    <path clip-path=\"url(#pe87ccaf904)\" d=\"M 95.882386 131.038125 \nL 97.86392 131.038125 \nL 97.86392 27.495268 \nL 95.882386 27.495268 \nz\n\" style=\"fill:#1f77b4;\"/>\n   </g>\n   <g id=\"patch_26\">\n    <path clip-path=\"url(#pe87ccaf904)\" d=\"M 97.86392 131.038125 \nL 99.845455 131.038125 \nL 99.845455 110.329554 \nL 97.86392 110.329554 \nz\n\" style=\"fill:#1f77b4;\"/>\n   </g>\n   <g id=\"patch_27\">\n    <path clip-path=\"url(#pe87ccaf904)\" d=\"M 99.845455 131.038125 \nL 101.826989 131.038125 \nL 101.826989 62.009554 \nL 99.845455 62.009554 \nz\n\" style=\"fill:#1f77b4;\"/>\n   </g>\n   <g id=\"patch_28\">\n    <path clip-path=\"url(#pe87ccaf904)\" d=\"M 101.826989 131.038125 \nL 103.808523 131.038125 \nL 103.808523 75.815268 \nL 101.826989 75.815268 \nz\n\" style=\"fill:#1f77b4;\"/>\n   </g>\n   <g id=\"patch_29\">\n    <path clip-path=\"url(#pe87ccaf904)\" d=\"M 103.808523 131.038125 \nL 105.790057 131.038125 \nL 105.790057 124.135268 \nL 103.808523 124.135268 \nz\n\" style=\"fill:#1f77b4;\"/>\n   </g>\n   <g id=\"patch_30\">\n    <path clip-path=\"url(#pe87ccaf904)\" d=\"M 105.790057 131.038125 \nL 107.771591 131.038125 \nL 107.771591 103.426696 \nL 105.790057 103.426696 \nz\n\" style=\"fill:#1f77b4;\"/>\n   </g>\n   <g id=\"patch_31\">\n    <path clip-path=\"url(#pe87ccaf904)\" d=\"M 107.771591 131.038125 \nL 109.753125 131.038125 \nL 109.753125 117.232411 \nL 107.771591 117.232411 \nz\n\" style=\"fill:#1f77b4;\"/>\n   </g>\n   <g id=\"patch_32\">\n    <path clip-path=\"url(#pe87ccaf904)\" d=\"M 109.753125 131.038125 \nL 111.734659 131.038125 \nL 111.734659 103.426696 \nL 109.753125 103.426696 \nz\n\" style=\"fill:#1f77b4;\"/>\n   </g>\n   <g id=\"patch_33\">\n    <path clip-path=\"url(#pe87ccaf904)\" d=\"M 111.734659 131.038125 \nL 113.716193 131.038125 \nL 113.716193 110.329554 \nL 111.734659 110.329554 \nz\n\" style=\"fill:#1f77b4;\"/>\n   </g>\n   <g id=\"patch_34\">\n    <path clip-path=\"url(#pe87ccaf904)\" d=\"M 113.716193 131.038125 \nL 115.697727 131.038125 \nL 115.697727 117.232411 \nL 113.716193 117.232411 \nz\n\" style=\"fill:#1f77b4;\"/>\n   </g>\n   <g id=\"patch_35\">\n    <path clip-path=\"url(#pe87ccaf904)\" d=\"M 115.697727 131.038125 \nL 117.679261 131.038125 \nL 117.679261 117.232411 \nL 115.697727 117.232411 \nz\n\" style=\"fill:#1f77b4;\"/>\n   </g>\n   <g id=\"patch_36\">\n    <path clip-path=\"url(#pe87ccaf904)\" d=\"M 117.679261 131.038125 \nL 119.660795 131.038125 \nL 119.660795 110.329554 \nL 117.679261 110.329554 \nz\n\" style=\"fill:#1f77b4;\"/>\n   </g>\n   <g id=\"patch_37\">\n    <path clip-path=\"url(#pe87ccaf904)\" d=\"M 119.660795 131.038125 \nL 121.64233 131.038125 \nL 121.64233 124.135268 \nL 119.660795 124.135268 \nz\n\" style=\"fill:#1f77b4;\"/>\n   </g>\n   <g id=\"patch_38\">\n    <path clip-path=\"url(#pe87ccaf904)\" d=\"M 121.64233 131.038125 \nL 123.623864 131.038125 \nL 123.623864 124.135268 \nL 121.64233 124.135268 \nz\n\" style=\"fill:#1f77b4;\"/>\n   </g>\n   <g id=\"patch_39\">\n    <path clip-path=\"url(#pe87ccaf904)\" d=\"M 123.623864 131.038125 \nL 125.605398 131.038125 \nL 125.605398 117.232411 \nL 123.623864 117.232411 \nz\n\" style=\"fill:#1f77b4;\"/>\n   </g>\n   <g id=\"patch_40\">\n    <path clip-path=\"url(#pe87ccaf904)\" d=\"M 125.605398 131.038125 \nL 127.586932 131.038125 \nL 127.586932 124.135268 \nL 125.605398 124.135268 \nz\n\" style=\"fill:#1f77b4;\"/>\n   </g>\n   <g id=\"patch_41\">\n    <path clip-path=\"url(#pe87ccaf904)\" d=\"M 127.586932 131.038125 \nL 129.568466 131.038125 \nL 129.568466 131.038125 \nL 127.586932 131.038125 \nz\n\" style=\"fill:#1f77b4;\"/>\n   </g>\n   <g id=\"patch_42\">\n    <path clip-path=\"url(#pe87ccaf904)\" d=\"M 129.568466 131.038125 \nL 131.55 131.038125 \nL 131.55 124.135268 \nL 129.568466 124.135268 \nz\n\" style=\"fill:#1f77b4;\"/>\n   </g>\n   <g id=\"patch_43\">\n    <path clip-path=\"url(#pe87ccaf904)\" d=\"M 131.55 131.038125 \nL 133.531534 131.038125 \nL 133.531534 124.135268 \nL 131.55 124.135268 \nz\n\" style=\"fill:#1f77b4;\"/>\n   </g>\n   <g id=\"patch_44\">\n    <path clip-path=\"url(#pe87ccaf904)\" d=\"M 133.531534 131.038125 \nL 135.513068 131.038125 \nL 135.513068 124.135268 \nL 133.531534 124.135268 \nz\n\" style=\"fill:#1f77b4;\"/>\n   </g>\n   <g id=\"patch_45\">\n    <path clip-path=\"url(#pe87ccaf904)\" d=\"M 135.513068 131.038125 \nL 137.494602 131.038125 \nL 137.494602 124.135268 \nL 135.513068 124.135268 \nz\n\" style=\"fill:#1f77b4;\"/>\n   </g>\n   <g id=\"patch_46\">\n    <path clip-path=\"url(#pe87ccaf904)\" d=\"M 137.494602 131.038125 \nL 139.476136 131.038125 \nL 139.476136 124.135268 \nL 137.494602 124.135268 \nz\n\" style=\"fill:#1f77b4;\"/>\n   </g>\n   <g id=\"patch_47\">\n    <path clip-path=\"url(#pe87ccaf904)\" d=\"M 139.476136 131.038125 \nL 141.45767 131.038125 \nL 141.45767 124.135268 \nL 139.476136 124.135268 \nz\n\" style=\"fill:#1f77b4;\"/>\n   </g>\n   <g id=\"patch_48\">\n    <path clip-path=\"url(#pe87ccaf904)\" d=\"M 141.45767 131.038125 \nL 143.439205 131.038125 \nL 143.439205 131.038125 \nL 141.45767 131.038125 \nz\n\" style=\"fill:#1f77b4;\"/>\n   </g>\n   <g id=\"patch_49\">\n    <path clip-path=\"url(#pe87ccaf904)\" d=\"M 143.439205 131.038125 \nL 145.420739 131.038125 \nL 145.420739 131.038125 \nL 143.439205 131.038125 \nz\n\" style=\"fill:#1f77b4;\"/>\n   </g>\n   <g id=\"patch_50\">\n    <path clip-path=\"url(#pe87ccaf904)\" d=\"M 145.420739 131.038125 \nL 147.402273 131.038125 \nL 147.402273 131.038125 \nL 145.420739 131.038125 \nz\n\" style=\"fill:#1f77b4;\"/>\n   </g>\n   <g id=\"patch_51\">\n    <path clip-path=\"url(#pe87ccaf904)\" d=\"M 147.402273 131.038125 \nL 149.383807 131.038125 \nL 149.383807 131.038125 \nL 147.402273 131.038125 \nz\n\" style=\"fill:#1f77b4;\"/>\n   </g>\n   <g id=\"patch_52\">\n    <path clip-path=\"url(#pe87ccaf904)\" d=\"M 149.383807 131.038125 \nL 151.365341 131.038125 \nL 151.365341 131.038125 \nL 149.383807 131.038125 \nz\n\" style=\"fill:#1f77b4;\"/>\n   </g>\n   <g id=\"patch_53\">\n    <path clip-path=\"url(#pe87ccaf904)\" d=\"M 151.365341 131.038125 \nL 153.346875 131.038125 \nL 153.346875 131.038125 \nL 151.365341 131.038125 \nz\n\" style=\"fill:#1f77b4;\"/>\n   </g>\n   <g id=\"patch_54\">\n    <path clip-path=\"url(#pe87ccaf904)\" d=\"M 153.346875 131.038125 \nL 155.328409 131.038125 \nL 155.328409 131.038125 \nL 153.346875 131.038125 \nz\n\" style=\"fill:#1f77b4;\"/>\n   </g>\n   <g id=\"patch_55\">\n    <path clip-path=\"url(#pe87ccaf904)\" d=\"M 155.328409 131.038125 \nL 157.309943 131.038125 \nL 157.309943 131.038125 \nL 155.328409 131.038125 \nz\n\" style=\"fill:#1f77b4;\"/>\n   </g>\n   <g id=\"patch_56\">\n    <path clip-path=\"url(#pe87ccaf904)\" d=\"M 157.309943 131.038125 \nL 159.291477 131.038125 \nL 159.291477 131.038125 \nL 157.309943 131.038125 \nz\n\" style=\"fill:#1f77b4;\"/>\n   </g>\n   <g id=\"patch_57\">\n    <path clip-path=\"url(#pe87ccaf904)\" d=\"M 159.291477 131.038125 \nL 161.273011 131.038125 \nL 161.273011 131.038125 \nL 159.291477 131.038125 \nz\n\" style=\"fill:#1f77b4;\"/>\n   </g>\n   <g id=\"patch_58\">\n    <path clip-path=\"url(#pe87ccaf904)\" d=\"M 161.273011 131.038125 \nL 163.254545 131.038125 \nL 163.254545 131.038125 \nL 161.273011 131.038125 \nz\n\" style=\"fill:#1f77b4;\"/>\n   </g>\n   <g id=\"patch_59\">\n    <path clip-path=\"url(#pe87ccaf904)\" d=\"M 163.254545 131.038125 \nL 165.23608 131.038125 \nL 165.23608 131.038125 \nL 163.254545 131.038125 \nz\n\" style=\"fill:#1f77b4;\"/>\n   </g>\n   <g id=\"patch_60\">\n    <path clip-path=\"url(#pe87ccaf904)\" d=\"M 165.23608 131.038125 \nL 167.217614 131.038125 \nL 167.217614 131.038125 \nL 165.23608 131.038125 \nz\n\" style=\"fill:#1f77b4;\"/>\n   </g>\n   <g id=\"patch_61\">\n    <path clip-path=\"url(#pe87ccaf904)\" d=\"M 167.217614 131.038125 \nL 169.199148 131.038125 \nL 169.199148 131.038125 \nL 167.217614 131.038125 \nz\n\" style=\"fill:#1f77b4;\"/>\n   </g>\n   <g id=\"patch_62\">\n    <path clip-path=\"url(#pe87ccaf904)\" d=\"M 169.199148 131.038125 \nL 171.180682 131.038125 \nL 171.180682 131.038125 \nL 169.199148 131.038125 \nz\n\" style=\"fill:#1f77b4;\"/>\n   </g>\n   <g id=\"patch_63\">\n    <path clip-path=\"url(#pe87ccaf904)\" d=\"M 171.180682 131.038125 \nL 173.162216 131.038125 \nL 173.162216 131.038125 \nL 171.180682 131.038125 \nz\n\" style=\"fill:#1f77b4;\"/>\n   </g>\n   <g id=\"patch_64\">\n    <path clip-path=\"url(#pe87ccaf904)\" d=\"M 173.162216 131.038125 \nL 175.14375 131.038125 \nL 175.14375 131.038125 \nL 173.162216 131.038125 \nz\n\" style=\"fill:#1f77b4;\"/>\n   </g>\n   <g id=\"patch_65\">\n    <path clip-path=\"url(#pe87ccaf904)\" d=\"M 175.14375 131.038125 \nL 177.125284 131.038125 \nL 177.125284 131.038125 \nL 175.14375 131.038125 \nz\n\" style=\"fill:#1f77b4;\"/>\n   </g>\n   <g id=\"patch_66\">\n    <path clip-path=\"url(#pe87ccaf904)\" d=\"M 177.125284 131.038125 \nL 179.106818 131.038125 \nL 179.106818 131.038125 \nL 177.125284 131.038125 \nz\n\" style=\"fill:#1f77b4;\"/>\n   </g>\n   <g id=\"patch_67\">\n    <path clip-path=\"url(#pe87ccaf904)\" d=\"M 179.106818 131.038125 \nL 181.088352 131.038125 \nL 181.088352 131.038125 \nL 179.106818 131.038125 \nz\n\" style=\"fill:#1f77b4;\"/>\n   </g>\n   <g id=\"patch_68\">\n    <path clip-path=\"url(#pe87ccaf904)\" d=\"M 181.088352 131.038125 \nL 183.069886 131.038125 \nL 183.069886 131.038125 \nL 181.088352 131.038125 \nz\n\" style=\"fill:#1f77b4;\"/>\n   </g>\n   <g id=\"patch_69\">\n    <path clip-path=\"url(#pe87ccaf904)\" d=\"M 183.069886 131.038125 \nL 185.05142 131.038125 \nL 185.05142 131.038125 \nL 183.069886 131.038125 \nz\n\" style=\"fill:#1f77b4;\"/>\n   </g>\n   <g id=\"patch_70\">\n    <path clip-path=\"url(#pe87ccaf904)\" d=\"M 185.05142 131.038125 \nL 187.032955 131.038125 \nL 187.032955 131.038125 \nL 185.05142 131.038125 \nz\n\" style=\"fill:#1f77b4;\"/>\n   </g>\n   <g id=\"patch_71\">\n    <path clip-path=\"url(#pe87ccaf904)\" d=\"M 187.032955 131.038125 \nL 189.014489 131.038125 \nL 189.014489 131.038125 \nL 187.032955 131.038125 \nz\n\" style=\"fill:#1f77b4;\"/>\n   </g>\n   <g id=\"patch_72\">\n    <path clip-path=\"url(#pe87ccaf904)\" d=\"M 189.014489 131.038125 \nL 190.996023 131.038125 \nL 190.996023 131.038125 \nL 189.014489 131.038125 \nz\n\" style=\"fill:#1f77b4;\"/>\n   </g>\n   <g id=\"patch_73\">\n    <path clip-path=\"url(#pe87ccaf904)\" d=\"M 190.996023 131.038125 \nL 192.977557 131.038125 \nL 192.977557 131.038125 \nL 190.996023 131.038125 \nz\n\" style=\"fill:#1f77b4;\"/>\n   </g>\n   <g id=\"patch_74\">\n    <path clip-path=\"url(#pe87ccaf904)\" d=\"M 192.977557 131.038125 \nL 194.959091 131.038125 \nL 194.959091 131.038125 \nL 192.977557 131.038125 \nz\n\" style=\"fill:#1f77b4;\"/>\n   </g>\n   <g id=\"patch_75\">\n    <path clip-path=\"url(#pe87ccaf904)\" d=\"M 194.959091 131.038125 \nL 196.940625 131.038125 \nL 196.940625 131.038125 \nL 194.959091 131.038125 \nz\n\" style=\"fill:#1f77b4;\"/>\n   </g>\n   <g id=\"patch_76\">\n    <path clip-path=\"url(#pe87ccaf904)\" d=\"M 196.940625 131.038125 \nL 198.922159 131.038125 \nL 198.922159 131.038125 \nL 196.940625 131.038125 \nz\n\" style=\"fill:#1f77b4;\"/>\n   </g>\n   <g id=\"patch_77\">\n    <path clip-path=\"url(#pe87ccaf904)\" d=\"M 198.922159 131.038125 \nL 200.903693 131.038125 \nL 200.903693 131.038125 \nL 198.922159 131.038125 \nz\n\" style=\"fill:#1f77b4;\"/>\n   </g>\n   <g id=\"patch_78\">\n    <path clip-path=\"url(#pe87ccaf904)\" d=\"M 200.903693 131.038125 \nL 202.885227 131.038125 \nL 202.885227 131.038125 \nL 200.903693 131.038125 \nz\n\" style=\"fill:#1f77b4;\"/>\n   </g>\n   <g id=\"patch_79\">\n    <path clip-path=\"url(#pe87ccaf904)\" d=\"M 202.885227 131.038125 \nL 204.866761 131.038125 \nL 204.866761 131.038125 \nL 202.885227 131.038125 \nz\n\" style=\"fill:#1f77b4;\"/>\n   </g>\n   <g id=\"patch_80\">\n    <path clip-path=\"url(#pe87ccaf904)\" d=\"M 204.866761 131.038125 \nL 206.848295 131.038125 \nL 206.848295 131.038125 \nL 204.866761 131.038125 \nz\n\" style=\"fill:#1f77b4;\"/>\n   </g>\n   <g id=\"patch_81\">\n    <path clip-path=\"url(#pe87ccaf904)\" d=\"M 206.848295 131.038125 \nL 208.82983 131.038125 \nL 208.82983 131.038125 \nL 206.848295 131.038125 \nz\n\" style=\"fill:#1f77b4;\"/>\n   </g>\n   <g id=\"patch_82\">\n    <path clip-path=\"url(#pe87ccaf904)\" d=\"M 208.82983 131.038125 \nL 210.811364 131.038125 \nL 210.811364 131.038125 \nL 208.82983 131.038125 \nz\n\" style=\"fill:#1f77b4;\"/>\n   </g>\n   <g id=\"patch_83\">\n    <path clip-path=\"url(#pe87ccaf904)\" d=\"M 210.811364 131.038125 \nL 212.792898 131.038125 \nL 212.792898 131.038125 \nL 210.811364 131.038125 \nz\n\" style=\"fill:#1f77b4;\"/>\n   </g>\n   <g id=\"patch_84\">\n    <path clip-path=\"url(#pe87ccaf904)\" d=\"M 212.792898 131.038125 \nL 214.774432 131.038125 \nL 214.774432 131.038125 \nL 212.792898 131.038125 \nz\n\" style=\"fill:#1f77b4;\"/>\n   </g>\n   <g id=\"patch_85\">\n    <path clip-path=\"url(#pe87ccaf904)\" d=\"M 214.774432 131.038125 \nL 216.755966 131.038125 \nL 216.755966 131.038125 \nL 214.774432 131.038125 \nz\n\" style=\"fill:#1f77b4;\"/>\n   </g>\n   <g id=\"patch_86\">\n    <path clip-path=\"url(#pe87ccaf904)\" d=\"M 216.755966 131.038125 \nL 218.7375 131.038125 \nL 218.7375 131.038125 \nL 216.755966 131.038125 \nz\n\" style=\"fill:#1f77b4;\"/>\n   </g>\n   <g id=\"patch_87\">\n    <path clip-path=\"url(#pe87ccaf904)\" d=\"M 218.7375 131.038125 \nL 220.719034 131.038125 \nL 220.719034 131.038125 \nL 218.7375 131.038125 \nz\n\" style=\"fill:#1f77b4;\"/>\n   </g>\n   <g id=\"patch_88\">\n    <path clip-path=\"url(#pe87ccaf904)\" d=\"M 220.719034 131.038125 \nL 222.700568 131.038125 \nL 222.700568 131.038125 \nL 220.719034 131.038125 \nz\n\" style=\"fill:#1f77b4;\"/>\n   </g>\n   <g id=\"patch_89\">\n    <path clip-path=\"url(#pe87ccaf904)\" d=\"M 222.700568 131.038125 \nL 224.682102 131.038125 \nL 224.682102 131.038125 \nL 222.700568 131.038125 \nz\n\" style=\"fill:#1f77b4;\"/>\n   </g>\n   <g id=\"patch_90\">\n    <path clip-path=\"url(#pe87ccaf904)\" d=\"M 224.682102 131.038125 \nL 226.663636 131.038125 \nL 226.663636 131.038125 \nL 224.682102 131.038125 \nz\n\" style=\"fill:#1f77b4;\"/>\n   </g>\n   <g id=\"patch_91\">\n    <path clip-path=\"url(#pe87ccaf904)\" d=\"M 226.663636 131.038125 \nL 228.64517 131.038125 \nL 228.64517 131.038125 \nL 226.663636 131.038125 \nz\n\" style=\"fill:#1f77b4;\"/>\n   </g>\n   <g id=\"patch_92\">\n    <path clip-path=\"url(#pe87ccaf904)\" d=\"M 228.64517 131.038125 \nL 230.626705 131.038125 \nL 230.626705 131.038125 \nL 228.64517 131.038125 \nz\n\" style=\"fill:#1f77b4;\"/>\n   </g>\n   <g id=\"patch_93\">\n    <path clip-path=\"url(#pe87ccaf904)\" d=\"M 230.626705 131.038125 \nL 232.608239 131.038125 \nL 232.608239 131.038125 \nL 230.626705 131.038125 \nz\n\" style=\"fill:#1f77b4;\"/>\n   </g>\n   <g id=\"patch_94\">\n    <path clip-path=\"url(#pe87ccaf904)\" d=\"M 232.608239 131.038125 \nL 234.589773 131.038125 \nL 234.589773 131.038125 \nL 232.608239 131.038125 \nz\n\" style=\"fill:#1f77b4;\"/>\n   </g>\n   <g id=\"patch_95\">\n    <path clip-path=\"url(#pe87ccaf904)\" d=\"M 234.589773 131.038125 \nL 236.571307 131.038125 \nL 236.571307 131.038125 \nL 234.589773 131.038125 \nz\n\" style=\"fill:#1f77b4;\"/>\n   </g>\n   <g id=\"patch_96\">\n    <path clip-path=\"url(#pe87ccaf904)\" d=\"M 236.571307 131.038125 \nL 238.552841 131.038125 \nL 238.552841 131.038125 \nL 236.571307 131.038125 \nz\n\" style=\"fill:#1f77b4;\"/>\n   </g>\n   <g id=\"patch_97\">\n    <path clip-path=\"url(#pe87ccaf904)\" d=\"M 238.552841 131.038125 \nL 240.534375 131.038125 \nL 240.534375 131.038125 \nL 238.552841 131.038125 \nz\n\" style=\"fill:#1f77b4;\"/>\n   </g>\n   <g id=\"patch_98\">\n    <path clip-path=\"url(#pe87ccaf904)\" d=\"M 240.534375 131.038125 \nL 242.515909 131.038125 \nL 242.515909 131.038125 \nL 240.534375 131.038125 \nz\n\" style=\"fill:#1f77b4;\"/>\n   </g>\n   <g id=\"patch_99\">\n    <path clip-path=\"url(#pe87ccaf904)\" d=\"M 242.515909 131.038125 \nL 244.497443 131.038125 \nL 244.497443 131.038125 \nL 242.515909 131.038125 \nz\n\" style=\"fill:#1f77b4;\"/>\n   </g>\n   <g id=\"patch_100\">\n    <path clip-path=\"url(#pe87ccaf904)\" d=\"M 244.497443 131.038125 \nL 246.478977 131.038125 \nL 246.478977 131.038125 \nL 244.497443 131.038125 \nz\n\" style=\"fill:#1f77b4;\"/>\n   </g>\n   <g id=\"patch_101\">\n    <path clip-path=\"url(#pe87ccaf904)\" d=\"M 246.478977 131.038125 \nL 248.460511 131.038125 \nL 248.460511 131.038125 \nL 246.478977 131.038125 \nz\n\" style=\"fill:#1f77b4;\"/>\n   </g>\n   <g id=\"patch_102\">\n    <path clip-path=\"url(#pe87ccaf904)\" d=\"M 248.460511 131.038125 \nL 250.442045 131.038125 \nL 250.442045 131.038125 \nL 248.460511 131.038125 \nz\n\" style=\"fill:#1f77b4;\"/>\n   </g>\n   <g id=\"patch_103\">\n    <path clip-path=\"url(#pe87ccaf904)\" d=\"M 250.442045 131.038125 \nL 252.42358 131.038125 \nL 252.42358 131.038125 \nL 250.442045 131.038125 \nz\n\" style=\"fill:#1f77b4;\"/>\n   </g>\n   <g id=\"patch_104\">\n    <path clip-path=\"url(#pe87ccaf904)\" d=\"M 252.42358 131.038125 \nL 254.405114 131.038125 \nL 254.405114 131.038125 \nL 252.42358 131.038125 \nz\n\" style=\"fill:#1f77b4;\"/>\n   </g>\n   <g id=\"patch_105\">\n    <path clip-path=\"url(#pe87ccaf904)\" d=\"M 254.405114 131.038125 \nL 256.386648 131.038125 \nL 256.386648 131.038125 \nL 254.405114 131.038125 \nz\n\" style=\"fill:#1f77b4;\"/>\n   </g>\n   <g id=\"patch_106\">\n    <path clip-path=\"url(#pe87ccaf904)\" d=\"M 256.386648 131.038125 \nL 258.368182 131.038125 \nL 258.368182 131.038125 \nL 256.386648 131.038125 \nz\n\" style=\"fill:#1f77b4;\"/>\n   </g>\n   <g id=\"patch_107\">\n    <path clip-path=\"url(#pe87ccaf904)\" d=\"M 258.368182 131.038125 \nL 260.349716 131.038125 \nL 260.349716 131.038125 \nL 258.368182 131.038125 \nz\n\" style=\"fill:#1f77b4;\"/>\n   </g>\n   <g id=\"patch_108\">\n    <path clip-path=\"url(#pe87ccaf904)\" d=\"M 260.349716 131.038125 \nL 262.33125 131.038125 \nL 262.33125 131.038125 \nL 260.349716 131.038125 \nz\n\" style=\"fill:#1f77b4;\"/>\n   </g>\n   <g id=\"patch_109\">\n    <path clip-path=\"url(#pe87ccaf904)\" d=\"M 262.33125 131.038125 \nL 264.312784 131.038125 \nL 264.312784 131.038125 \nL 262.33125 131.038125 \nz\n\" style=\"fill:#1f77b4;\"/>\n   </g>\n   <g id=\"patch_110\">\n    <path clip-path=\"url(#pe87ccaf904)\" d=\"M 264.312784 131.038125 \nL 266.294318 131.038125 \nL 266.294318 131.038125 \nL 264.312784 131.038125 \nz\n\" style=\"fill:#1f77b4;\"/>\n   </g>\n   <g id=\"patch_111\">\n    <path clip-path=\"url(#pe87ccaf904)\" d=\"M 266.294318 131.038125 \nL 268.275852 131.038125 \nL 268.275852 131.038125 \nL 266.294318 131.038125 \nz\n\" style=\"fill:#1f77b4;\"/>\n   </g>\n   <g id=\"patch_112\">\n    <path clip-path=\"url(#pe87ccaf904)\" d=\"M 268.275852 131.038125 \nL 270.257386 131.038125 \nL 270.257386 131.038125 \nL 268.275852 131.038125 \nz\n\" style=\"fill:#1f77b4;\"/>\n   </g>\n   <g id=\"patch_113\">\n    <path clip-path=\"url(#pe87ccaf904)\" d=\"M 270.257386 131.038125 \nL 272.23892 131.038125 \nL 272.23892 131.038125 \nL 270.257386 131.038125 \nz\n\" style=\"fill:#1f77b4;\"/>\n   </g>\n   <g id=\"patch_114\">\n    <path clip-path=\"url(#pe87ccaf904)\" d=\"M 272.23892 131.038125 \nL 274.220455 131.038125 \nL 274.220455 131.038125 \nL 272.23892 131.038125 \nz\n\" style=\"fill:#1f77b4;\"/>\n   </g>\n   <g id=\"patch_115\">\n    <path clip-path=\"url(#pe87ccaf904)\" d=\"M 274.220455 131.038125 \nL 276.201989 131.038125 \nL 276.201989 131.038125 \nL 274.220455 131.038125 \nz\n\" style=\"fill:#1f77b4;\"/>\n   </g>\n   <g id=\"patch_116\">\n    <path clip-path=\"url(#pe87ccaf904)\" d=\"M 276.201989 131.038125 \nL 278.183523 131.038125 \nL 278.183523 131.038125 \nL 276.201989 131.038125 \nz\n\" style=\"fill:#1f77b4;\"/>\n   </g>\n   <g id=\"patch_117\">\n    <path clip-path=\"url(#pe87ccaf904)\" d=\"M 278.183523 131.038125 \nL 280.165057 131.038125 \nL 280.165057 131.038125 \nL 278.183523 131.038125 \nz\n\" style=\"fill:#1f77b4;\"/>\n   </g>\n   <g id=\"patch_118\">\n    <path clip-path=\"url(#pe87ccaf904)\" d=\"M 280.165057 131.038125 \nL 282.146591 131.038125 \nL 282.146591 131.038125 \nL 280.165057 131.038125 \nz\n\" style=\"fill:#1f77b4;\"/>\n   </g>\n   <g id=\"patch_119\">\n    <path clip-path=\"url(#pe87ccaf904)\" d=\"M 282.146591 131.038125 \nL 284.128125 131.038125 \nL 284.128125 131.038125 \nL 282.146591 131.038125 \nz\n\" style=\"fill:#1f77b4;\"/>\n   </g>\n   <g id=\"patch_120\">\n    <path clip-path=\"url(#pe87ccaf904)\" d=\"M 284.128125 131.038125 \nL 286.109659 131.038125 \nL 286.109659 131.038125 \nL 284.128125 131.038125 \nz\n\" style=\"fill:#1f77b4;\"/>\n   </g>\n   <g id=\"patch_121\">\n    <path clip-path=\"url(#pe87ccaf904)\" d=\"M 286.109659 131.038125 \nL 288.091193 131.038125 \nL 288.091193 131.038125 \nL 286.109659 131.038125 \nz\n\" style=\"fill:#1f77b4;\"/>\n   </g>\n   <g id=\"patch_122\">\n    <path clip-path=\"url(#pe87ccaf904)\" d=\"M 288.091193 131.038125 \nL 290.072727 131.038125 \nL 290.072727 131.038125 \nL 288.091193 131.038125 \nz\n\" style=\"fill:#1f77b4;\"/>\n   </g>\n   <g id=\"patch_123\">\n    <path clip-path=\"url(#pe87ccaf904)\" d=\"M 290.072727 131.038125 \nL 292.054261 131.038125 \nL 292.054261 131.038125 \nL 290.072727 131.038125 \nz\n\" style=\"fill:#1f77b4;\"/>\n   </g>\n   <g id=\"patch_124\">\n    <path clip-path=\"url(#pe87ccaf904)\" d=\"M 292.054261 131.038125 \nL 294.035795 131.038125 \nL 294.035795 131.038125 \nL 292.054261 131.038125 \nz\n\" style=\"fill:#1f77b4;\"/>\n   </g>\n   <g id=\"patch_125\">\n    <path clip-path=\"url(#pe87ccaf904)\" d=\"M 294.035795 131.038125 \nL 296.01733 131.038125 \nL 296.01733 131.038125 \nL 294.035795 131.038125 \nz\n\" style=\"fill:#1f77b4;\"/>\n   </g>\n   <g id=\"patch_126\">\n    <path clip-path=\"url(#pe87ccaf904)\" d=\"M 296.01733 131.038125 \nL 297.998864 131.038125 \nL 297.998864 131.038125 \nL 296.01733 131.038125 \nz\n\" style=\"fill:#1f77b4;\"/>\n   </g>\n   <g id=\"patch_127\">\n    <path clip-path=\"url(#pe87ccaf904)\" d=\"M 297.998864 131.038125 \nL 299.980398 131.038125 \nL 299.980398 131.038125 \nL 297.998864 131.038125 \nz\n\" style=\"fill:#1f77b4;\"/>\n   </g>\n   <g id=\"patch_128\">\n    <path clip-path=\"url(#pe87ccaf904)\" d=\"M 299.980398 131.038125 \nL 301.961932 131.038125 \nL 301.961932 131.038125 \nL 299.980398 131.038125 \nz\n\" style=\"fill:#1f77b4;\"/>\n   </g>\n   <g id=\"patch_129\">\n    <path clip-path=\"url(#pe87ccaf904)\" d=\"M 301.961932 131.038125 \nL 303.943466 131.038125 \nL 303.943466 131.038125 \nL 301.961932 131.038125 \nz\n\" style=\"fill:#1f77b4;\"/>\n   </g>\n   <g id=\"patch_130\">\n    <path clip-path=\"url(#pe87ccaf904)\" d=\"M 303.943466 131.038125 \nL 305.925 131.038125 \nL 305.925 131.038125 \nL 303.943466 131.038125 \nz\n\" style=\"fill:#1f77b4;\"/>\n   </g>\n   <g id=\"patch_131\">\n    <path clip-path=\"url(#pe87ccaf904)\" d=\"M 305.925 131.038125 \nL 307.906534 131.038125 \nL 307.906534 131.038125 \nL 305.925 131.038125 \nz\n\" style=\"fill:#1f77b4;\"/>\n   </g>\n   <g id=\"patch_132\">\n    <path clip-path=\"url(#pe87ccaf904)\" d=\"M 307.906534 131.038125 \nL 309.888068 131.038125 \nL 309.888068 131.038125 \nL 307.906534 131.038125 \nz\n\" style=\"fill:#1f77b4;\"/>\n   </g>\n   <g id=\"patch_133\">\n    <path clip-path=\"url(#pe87ccaf904)\" d=\"M 309.888068 131.038125 \nL 311.869602 131.038125 \nL 311.869602 131.038125 \nL 309.888068 131.038125 \nz\n\" style=\"fill:#1f77b4;\"/>\n   </g>\n   <g id=\"patch_134\">\n    <path clip-path=\"url(#pe87ccaf904)\" d=\"M 311.869602 131.038125 \nL 313.851136 131.038125 \nL 313.851136 131.038125 \nL 311.869602 131.038125 \nz\n\" style=\"fill:#1f77b4;\"/>\n   </g>\n   <g id=\"patch_135\">\n    <path clip-path=\"url(#pe87ccaf904)\" d=\"M 313.851136 131.038125 \nL 315.83267 131.038125 \nL 315.83267 131.038125 \nL 313.851136 131.038125 \nz\n\" style=\"fill:#1f77b4;\"/>\n   </g>\n   <g id=\"patch_136\">\n    <path clip-path=\"url(#pe87ccaf904)\" d=\"M 315.83267 131.038125 \nL 317.814205 131.038125 \nL 317.814205 131.038125 \nL 315.83267 131.038125 \nz\n\" style=\"fill:#1f77b4;\"/>\n   </g>\n   <g id=\"patch_137\">\n    <path clip-path=\"url(#pe87ccaf904)\" d=\"M 317.814205 131.038125 \nL 319.795739 131.038125 \nL 319.795739 131.038125 \nL 317.814205 131.038125 \nz\n\" style=\"fill:#1f77b4;\"/>\n   </g>\n   <g id=\"patch_138\">\n    <path clip-path=\"url(#pe87ccaf904)\" d=\"M 319.795739 131.038125 \nL 321.777273 131.038125 \nL 321.777273 131.038125 \nL 319.795739 131.038125 \nz\n\" style=\"fill:#1f77b4;\"/>\n   </g>\n   <g id=\"patch_139\">\n    <path clip-path=\"url(#pe87ccaf904)\" d=\"M 321.777273 131.038125 \nL 323.758807 131.038125 \nL 323.758807 131.038125 \nL 321.777273 131.038125 \nz\n\" style=\"fill:#1f77b4;\"/>\n   </g>\n   <g id=\"patch_140\">\n    <path clip-path=\"url(#pe87ccaf904)\" d=\"M 323.758807 131.038125 \nL 325.740341 131.038125 \nL 325.740341 131.038125 \nL 323.758807 131.038125 \nz\n\" style=\"fill:#1f77b4;\"/>\n   </g>\n   <g id=\"patch_141\">\n    <path clip-path=\"url(#pe87ccaf904)\" d=\"M 325.740341 131.038125 \nL 327.721875 131.038125 \nL 327.721875 131.038125 \nL 325.740341 131.038125 \nz\n\" style=\"fill:#1f77b4;\"/>\n   </g>\n   <g id=\"patch_142\">\n    <path clip-path=\"url(#pe87ccaf904)\" d=\"M 327.721875 131.038125 \nL 329.703409 131.038125 \nL 329.703409 131.038125 \nL 327.721875 131.038125 \nz\n\" style=\"fill:#1f77b4;\"/>\n   </g>\n   <g id=\"patch_143\">\n    <path clip-path=\"url(#pe87ccaf904)\" d=\"M 329.703409 131.038125 \nL 331.684943 131.038125 \nL 331.684943 131.038125 \nL 329.703409 131.038125 \nz\n\" style=\"fill:#1f77b4;\"/>\n   </g>\n   <g id=\"patch_144\">\n    <path clip-path=\"url(#pe87ccaf904)\" d=\"M 331.684943 131.038125 \nL 333.666477 131.038125 \nL 333.666477 131.038125 \nL 331.684943 131.038125 \nz\n\" style=\"fill:#1f77b4;\"/>\n   </g>\n   <g id=\"patch_145\">\n    <path clip-path=\"url(#pe87ccaf904)\" d=\"M 333.666477 131.038125 \nL 335.648011 131.038125 \nL 335.648011 131.038125 \nL 333.666477 131.038125 \nz\n\" style=\"fill:#1f77b4;\"/>\n   </g>\n   <g id=\"patch_146\">\n    <path clip-path=\"url(#pe87ccaf904)\" d=\"M 335.648011 131.038125 \nL 337.629545 131.038125 \nL 337.629545 131.038125 \nL 335.648011 131.038125 \nz\n\" style=\"fill:#1f77b4;\"/>\n   </g>\n   <g id=\"patch_147\">\n    <path clip-path=\"url(#pe87ccaf904)\" d=\"M 337.629545 131.038125 \nL 339.61108 131.038125 \nL 339.61108 131.038125 \nL 337.629545 131.038125 \nz\n\" style=\"fill:#1f77b4;\"/>\n   </g>\n   <g id=\"patch_148\">\n    <path clip-path=\"url(#pe87ccaf904)\" d=\"M 339.61108 131.038125 \nL 341.592614 131.038125 \nL 341.592614 131.038125 \nL 339.61108 131.038125 \nz\n\" style=\"fill:#1f77b4;\"/>\n   </g>\n   <g id=\"patch_149\">\n    <path clip-path=\"url(#pe87ccaf904)\" d=\"M 341.592614 131.038125 \nL 343.574148 131.038125 \nL 343.574148 131.038125 \nL 341.592614 131.038125 \nz\n\" style=\"fill:#1f77b4;\"/>\n   </g>\n   <g id=\"patch_150\">\n    <path clip-path=\"url(#pe87ccaf904)\" d=\"M 343.574148 131.038125 \nL 345.555682 131.038125 \nL 345.555682 131.038125 \nL 343.574148 131.038125 \nz\n\" style=\"fill:#1f77b4;\"/>\n   </g>\n   <g id=\"patch_151\">\n    <path clip-path=\"url(#pe87ccaf904)\" d=\"M 345.555682 131.038125 \nL 347.537216 131.038125 \nL 347.537216 131.038125 \nL 345.555682 131.038125 \nz\n\" style=\"fill:#1f77b4;\"/>\n   </g>\n   <g id=\"patch_152\">\n    <path clip-path=\"url(#pe87ccaf904)\" d=\"M 347.537216 131.038125 \nL 349.51875 131.038125 \nL 349.51875 131.038125 \nL 347.537216 131.038125 \nz\n\" style=\"fill:#1f77b4;\"/>\n   </g>\n   <g id=\"patch_153\">\n    <path clip-path=\"url(#pe87ccaf904)\" d=\"M 349.51875 131.038125 \nL 351.500284 131.038125 \nL 351.500284 131.038125 \nL 349.51875 131.038125 \nz\n\" style=\"fill:#1f77b4;\"/>\n   </g>\n   <g id=\"patch_154\">\n    <path clip-path=\"url(#pe87ccaf904)\" d=\"M 351.500284 131.038125 \nL 353.481818 131.038125 \nL 353.481818 131.038125 \nL 351.500284 131.038125 \nz\n\" style=\"fill:#1f77b4;\"/>\n   </g>\n   <g id=\"patch_155\">\n    <path clip-path=\"url(#pe87ccaf904)\" d=\"M 353.481818 131.038125 \nL 355.463352 131.038125 \nL 355.463352 131.038125 \nL 353.481818 131.038125 \nz\n\" style=\"fill:#1f77b4;\"/>\n   </g>\n   <g id=\"patch_156\">\n    <path clip-path=\"url(#pe87ccaf904)\" d=\"M 355.463352 131.038125 \nL 357.444886 131.038125 \nL 357.444886 131.038125 \nL 355.463352 131.038125 \nz\n\" style=\"fill:#1f77b4;\"/>\n   </g>\n   <g id=\"patch_157\">\n    <path clip-path=\"url(#pe87ccaf904)\" d=\"M 357.444886 131.038125 \nL 359.42642 131.038125 \nL 359.42642 131.038125 \nL 357.444886 131.038125 \nz\n\" style=\"fill:#1f77b4;\"/>\n   </g>\n   <g id=\"patch_158\">\n    <path clip-path=\"url(#pe87ccaf904)\" d=\"M 359.42642 131.038125 \nL 361.407955 131.038125 \nL 361.407955 131.038125 \nL 359.42642 131.038125 \nz\n\" style=\"fill:#1f77b4;\"/>\n   </g>\n   <g id=\"patch_159\">\n    <path clip-path=\"url(#pe87ccaf904)\" d=\"M 361.407955 131.038125 \nL 363.389489 131.038125 \nL 363.389489 131.038125 \nL 361.407955 131.038125 \nz\n\" style=\"fill:#1f77b4;\"/>\n   </g>\n   <g id=\"patch_160\">\n    <path clip-path=\"url(#pe87ccaf904)\" d=\"M 363.389489 131.038125 \nL 365.371023 131.038125 \nL 365.371023 131.038125 \nL 363.389489 131.038125 \nz\n\" style=\"fill:#1f77b4;\"/>\n   </g>\n   <g id=\"patch_161\">\n    <path clip-path=\"url(#pe87ccaf904)\" d=\"M 365.371023 131.038125 \nL 367.352557 131.038125 \nL 367.352557 131.038125 \nL 365.371023 131.038125 \nz\n\" style=\"fill:#1f77b4;\"/>\n   </g>\n   <g id=\"patch_162\">\n    <path clip-path=\"url(#pe87ccaf904)\" d=\"M 367.352557 131.038125 \nL 369.334091 131.038125 \nL 369.334091 131.038125 \nL 367.352557 131.038125 \nz\n\" style=\"fill:#1f77b4;\"/>\n   </g>\n   <g id=\"patch_163\">\n    <path clip-path=\"url(#pe87ccaf904)\" d=\"M 369.334091 131.038125 \nL 371.315625 131.038125 \nL 371.315625 131.038125 \nL 369.334091 131.038125 \nz\n\" style=\"fill:#1f77b4;\"/>\n   </g>\n   <g id=\"patch_164\">\n    <path clip-path=\"url(#pe87ccaf904)\" d=\"M 371.315625 131.038125 \nL 373.297159 131.038125 \nL 373.297159 131.038125 \nL 371.315625 131.038125 \nz\n\" style=\"fill:#1f77b4;\"/>\n   </g>\n   <g id=\"patch_165\">\n    <path clip-path=\"url(#pe87ccaf904)\" d=\"M 373.297159 131.038125 \nL 375.278693 131.038125 \nL 375.278693 131.038125 \nL 373.297159 131.038125 \nz\n\" style=\"fill:#1f77b4;\"/>\n   </g>\n   <g id=\"patch_166\">\n    <path clip-path=\"url(#pe87ccaf904)\" d=\"M 375.278693 131.038125 \nL 377.260227 131.038125 \nL 377.260227 131.038125 \nL 375.278693 131.038125 \nz\n\" style=\"fill:#1f77b4;\"/>\n   </g>\n   <g id=\"patch_167\">\n    <path clip-path=\"url(#pe87ccaf904)\" d=\"M 377.260227 131.038125 \nL 379.241761 131.038125 \nL 379.241761 131.038125 \nL 377.260227 131.038125 \nz\n\" style=\"fill:#1f77b4;\"/>\n   </g>\n   <g id=\"patch_168\">\n    <path clip-path=\"url(#pe87ccaf904)\" d=\"M 379.241761 131.038125 \nL 381.223295 131.038125 \nL 381.223295 131.038125 \nL 379.241761 131.038125 \nz\n\" style=\"fill:#1f77b4;\"/>\n   </g>\n   <g id=\"patch_169\">\n    <path clip-path=\"url(#pe87ccaf904)\" d=\"M 381.223295 131.038125 \nL 383.20483 131.038125 \nL 383.20483 131.038125 \nL 381.223295 131.038125 \nz\n\" style=\"fill:#1f77b4;\"/>\n   </g>\n   <g id=\"patch_170\">\n    <path clip-path=\"url(#pe87ccaf904)\" d=\"M 383.20483 131.038125 \nL 385.186364 131.038125 \nL 385.186364 131.038125 \nL 383.20483 131.038125 \nz\n\" style=\"fill:#1f77b4;\"/>\n   </g>\n   <g id=\"patch_171\">\n    <path clip-path=\"url(#pe87ccaf904)\" d=\"M 385.186364 131.038125 \nL 387.167898 131.038125 \nL 387.167898 131.038125 \nL 385.186364 131.038125 \nz\n\" style=\"fill:#1f77b4;\"/>\n   </g>\n   <g id=\"patch_172\">\n    <path clip-path=\"url(#pe87ccaf904)\" d=\"M 387.167898 131.038125 \nL 389.149432 131.038125 \nL 389.149432 131.038125 \nL 387.167898 131.038125 \nz\n\" style=\"fill:#1f77b4;\"/>\n   </g>\n   <g id=\"patch_173\">\n    <path clip-path=\"url(#pe87ccaf904)\" d=\"M 389.149432 131.038125 \nL 391.130966 131.038125 \nL 391.130966 131.038125 \nL 389.149432 131.038125 \nz\n\" style=\"fill:#1f77b4;\"/>\n   </g>\n   <g id=\"patch_174\">\n    <path clip-path=\"url(#pe87ccaf904)\" d=\"M 391.130966 131.038125 \nL 393.1125 131.038125 \nL 393.1125 131.038125 \nL 391.130966 131.038125 \nz\n\" style=\"fill:#1f77b4;\"/>\n   </g>\n   <g id=\"patch_175\">\n    <path clip-path=\"url(#pe87ccaf904)\" d=\"M 393.1125 131.038125 \nL 395.094034 131.038125 \nL 395.094034 131.038125 \nL 393.1125 131.038125 \nz\n\" style=\"fill:#1f77b4;\"/>\n   </g>\n   <g id=\"patch_176\">\n    <path clip-path=\"url(#pe87ccaf904)\" d=\"M 395.094034 131.038125 \nL 397.075568 131.038125 \nL 397.075568 131.038125 \nL 395.094034 131.038125 \nz\n\" style=\"fill:#1f77b4;\"/>\n   </g>\n   <g id=\"patch_177\">\n    <path clip-path=\"url(#pe87ccaf904)\" d=\"M 397.075568 131.038125 \nL 399.057102 131.038125 \nL 399.057102 131.038125 \nL 397.075568 131.038125 \nz\n\" style=\"fill:#1f77b4;\"/>\n   </g>\n   <g id=\"patch_178\">\n    <path clip-path=\"url(#pe87ccaf904)\" d=\"M 399.057102 131.038125 \nL 401.038636 131.038125 \nL 401.038636 131.038125 \nL 399.057102 131.038125 \nz\n\" style=\"fill:#1f77b4;\"/>\n   </g>\n   <g id=\"patch_179\">\n    <path clip-path=\"url(#pe87ccaf904)\" d=\"M 401.038636 131.038125 \nL 403.02017 131.038125 \nL 403.02017 131.038125 \nL 401.038636 131.038125 \nz\n\" style=\"fill:#1f77b4;\"/>\n   </g>\n   <g id=\"patch_180\">\n    <path clip-path=\"url(#pe87ccaf904)\" d=\"M 403.02017 131.038125 \nL 405.001705 131.038125 \nL 405.001705 131.038125 \nL 403.02017 131.038125 \nz\n\" style=\"fill:#1f77b4;\"/>\n   </g>\n   <g id=\"patch_181\">\n    <path clip-path=\"url(#pe87ccaf904)\" d=\"M 405.001705 131.038125 \nL 406.983239 131.038125 \nL 406.983239 131.038125 \nL 405.001705 131.038125 \nz\n\" style=\"fill:#1f77b4;\"/>\n   </g>\n   <g id=\"patch_182\">\n    <path clip-path=\"url(#pe87ccaf904)\" d=\"M 406.983239 131.038125 \nL 408.964773 131.038125 \nL 408.964773 131.038125 \nL 406.983239 131.038125 \nz\n\" style=\"fill:#1f77b4;\"/>\n   </g>\n   <g id=\"patch_183\">\n    <path clip-path=\"url(#pe87ccaf904)\" d=\"M 408.964773 131.038125 \nL 410.946307 131.038125 \nL 410.946307 131.038125 \nL 408.964773 131.038125 \nz\n\" style=\"fill:#1f77b4;\"/>\n   </g>\n   <g id=\"patch_184\">\n    <path clip-path=\"url(#pe87ccaf904)\" d=\"M 410.946307 131.038125 \nL 412.927841 131.038125 \nL 412.927841 131.038125 \nL 410.946307 131.038125 \nz\n\" style=\"fill:#1f77b4;\"/>\n   </g>\n   <g id=\"patch_185\">\n    <path clip-path=\"url(#pe87ccaf904)\" d=\"M 412.927841 131.038125 \nL 414.909375 131.038125 \nL 414.909375 131.038125 \nL 412.927841 131.038125 \nz\n\" style=\"fill:#1f77b4;\"/>\n   </g>\n   <g id=\"patch_186\">\n    <path clip-path=\"url(#pe87ccaf904)\" d=\"M 414.909375 131.038125 \nL 416.890909 131.038125 \nL 416.890909 131.038125 \nL 414.909375 131.038125 \nz\n\" style=\"fill:#1f77b4;\"/>\n   </g>\n   <g id=\"patch_187\">\n    <path clip-path=\"url(#pe87ccaf904)\" d=\"M 416.890909 131.038125 \nL 418.872443 131.038125 \nL 418.872443 131.038125 \nL 416.890909 131.038125 \nz\n\" style=\"fill:#1f77b4;\"/>\n   </g>\n   <g id=\"patch_188\">\n    <path clip-path=\"url(#pe87ccaf904)\" d=\"M 418.872443 131.038125 \nL 420.853977 131.038125 \nL 420.853977 131.038125 \nL 418.872443 131.038125 \nz\n\" style=\"fill:#1f77b4;\"/>\n   </g>\n   <g id=\"patch_189\">\n    <path clip-path=\"url(#pe87ccaf904)\" d=\"M 420.853977 131.038125 \nL 422.835511 131.038125 \nL 422.835511 131.038125 \nL 420.853977 131.038125 \nz\n\" style=\"fill:#1f77b4;\"/>\n   </g>\n   <g id=\"patch_190\">\n    <path clip-path=\"url(#pe87ccaf904)\" d=\"M 422.835511 131.038125 \nL 424.817045 131.038125 \nL 424.817045 131.038125 \nL 422.835511 131.038125 \nz\n\" style=\"fill:#1f77b4;\"/>\n   </g>\n   <g id=\"patch_191\">\n    <path clip-path=\"url(#pe87ccaf904)\" d=\"M 424.817045 131.038125 \nL 426.79858 131.038125 \nL 426.79858 131.038125 \nL 424.817045 131.038125 \nz\n\" style=\"fill:#1f77b4;\"/>\n   </g>\n   <g id=\"patch_192\">\n    <path clip-path=\"url(#pe87ccaf904)\" d=\"M 426.79858 131.038125 \nL 428.780114 131.038125 \nL 428.780114 131.038125 \nL 426.79858 131.038125 \nz\n\" style=\"fill:#1f77b4;\"/>\n   </g>\n   <g id=\"patch_193\">\n    <path clip-path=\"url(#pe87ccaf904)\" d=\"M 428.780114 131.038125 \nL 430.761648 131.038125 \nL 430.761648 131.038125 \nL 428.780114 131.038125 \nz\n\" style=\"fill:#1f77b4;\"/>\n   </g>\n   <g id=\"patch_194\">\n    <path clip-path=\"url(#pe87ccaf904)\" d=\"M 430.761648 131.038125 \nL 432.743182 131.038125 \nL 432.743182 131.038125 \nL 430.761648 131.038125 \nz\n\" style=\"fill:#1f77b4;\"/>\n   </g>\n   <g id=\"patch_195\">\n    <path clip-path=\"url(#pe87ccaf904)\" d=\"M 432.743182 131.038125 \nL 434.724716 131.038125 \nL 434.724716 131.038125 \nL 432.743182 131.038125 \nz\n\" style=\"fill:#1f77b4;\"/>\n   </g>\n   <g id=\"patch_196\">\n    <path clip-path=\"url(#pe87ccaf904)\" d=\"M 434.724716 131.038125 \nL 436.70625 131.038125 \nL 436.70625 131.038125 \nL 434.724716 131.038125 \nz\n\" style=\"fill:#1f77b4;\"/>\n   </g>\n   <g id=\"patch_197\">\n    <path clip-path=\"url(#pe87ccaf904)\" d=\"M 436.70625 131.038125 \nL 438.687784 131.038125 \nL 438.687784 131.038125 \nL 436.70625 131.038125 \nz\n\" style=\"fill:#1f77b4;\"/>\n   </g>\n   <g id=\"patch_198\">\n    <path clip-path=\"url(#pe87ccaf904)\" d=\"M 438.687784 131.038125 \nL 440.669318 131.038125 \nL 440.669318 131.038125 \nL 438.687784 131.038125 \nz\n\" style=\"fill:#1f77b4;\"/>\n   </g>\n   <g id=\"patch_199\">\n    <path clip-path=\"url(#pe87ccaf904)\" d=\"M 440.669318 131.038125 \nL 442.650852 131.038125 \nL 442.650852 131.038125 \nL 440.669318 131.038125 \nz\n\" style=\"fill:#1f77b4;\"/>\n   </g>\n   <g id=\"patch_200\">\n    <path clip-path=\"url(#pe87ccaf904)\" d=\"M 442.650852 131.038125 \nL 444.632386 131.038125 \nL 444.632386 131.038125 \nL 442.650852 131.038125 \nz\n\" style=\"fill:#1f77b4;\"/>\n   </g>\n   <g id=\"patch_201\">\n    <path clip-path=\"url(#pe87ccaf904)\" d=\"M 444.632386 131.038125 \nL 446.61392 131.038125 \nL 446.61392 131.038125 \nL 444.632386 131.038125 \nz\n\" style=\"fill:#1f77b4;\"/>\n   </g>\n   <g id=\"patch_202\">\n    <path clip-path=\"url(#pe87ccaf904)\" d=\"M 446.61392 131.038125 \nL 448.595455 131.038125 \nL 448.595455 131.038125 \nL 446.61392 131.038125 \nz\n\" style=\"fill:#1f77b4;\"/>\n   </g>\n   <g id=\"patch_203\">\n    <path clip-path=\"url(#pe87ccaf904)\" d=\"M 448.595455 131.038125 \nL 450.576989 131.038125 \nL 450.576989 131.038125 \nL 448.595455 131.038125 \nz\n\" style=\"fill:#1f77b4;\"/>\n   </g>\n   <g id=\"patch_204\">\n    <path clip-path=\"url(#pe87ccaf904)\" d=\"M 450.576989 131.038125 \nL 452.558523 131.038125 \nL 452.558523 131.038125 \nL 450.576989 131.038125 \nz\n\" style=\"fill:#1f77b4;\"/>\n   </g>\n   <g id=\"patch_205\">\n    <path clip-path=\"url(#pe87ccaf904)\" d=\"M 452.558523 131.038125 \nL 454.540057 131.038125 \nL 454.540057 131.038125 \nL 452.558523 131.038125 \nz\n\" style=\"fill:#1f77b4;\"/>\n   </g>\n   <g id=\"patch_206\">\n    <path clip-path=\"url(#pe87ccaf904)\" d=\"M 454.540057 131.038125 \nL 456.521591 131.038125 \nL 456.521591 131.038125 \nL 454.540057 131.038125 \nz\n\" style=\"fill:#1f77b4;\"/>\n   </g>\n   <g id=\"patch_207\">\n    <path clip-path=\"url(#pe87ccaf904)\" d=\"M 456.521591 131.038125 \nL 458.503125 131.038125 \nL 458.503125 131.038125 \nL 456.521591 131.038125 \nz\n\" style=\"fill:#1f77b4;\"/>\n   </g>\n   <g id=\"patch_208\">\n    <path clip-path=\"url(#pe87ccaf904)\" d=\"M 458.503125 131.038125 \nL 460.484659 131.038125 \nL 460.484659 131.038125 \nL 458.503125 131.038125 \nz\n\" style=\"fill:#1f77b4;\"/>\n   </g>\n   <g id=\"patch_209\">\n    <path clip-path=\"url(#pe87ccaf904)\" d=\"M 460.484659 131.038125 \nL 462.466193 131.038125 \nL 462.466193 131.038125 \nL 460.484659 131.038125 \nz\n\" style=\"fill:#1f77b4;\"/>\n   </g>\n   <g id=\"patch_210\">\n    <path clip-path=\"url(#pe87ccaf904)\" d=\"M 462.466193 131.038125 \nL 464.447727 131.038125 \nL 464.447727 131.038125 \nL 462.466193 131.038125 \nz\n\" style=\"fill:#1f77b4;\"/>\n   </g>\n   <g id=\"patch_211\">\n    <path clip-path=\"url(#pe87ccaf904)\" d=\"M 464.447727 131.038125 \nL 466.429261 131.038125 \nL 466.429261 131.038125 \nL 464.447727 131.038125 \nz\n\" style=\"fill:#1f77b4;\"/>\n   </g>\n   <g id=\"patch_212\">\n    <path clip-path=\"url(#pe87ccaf904)\" d=\"M 466.429261 131.038125 \nL 468.410795 131.038125 \nL 468.410795 131.038125 \nL 466.429261 131.038125 \nz\n\" style=\"fill:#1f77b4;\"/>\n   </g>\n   <g id=\"patch_213\">\n    <path clip-path=\"url(#pe87ccaf904)\" d=\"M 468.410795 131.038125 \nL 470.39233 131.038125 \nL 470.39233 131.038125 \nL 468.410795 131.038125 \nz\n\" style=\"fill:#1f77b4;\"/>\n   </g>\n   <g id=\"patch_214\">\n    <path clip-path=\"url(#pe87ccaf904)\" d=\"M 470.39233 131.038125 \nL 472.373864 131.038125 \nL 472.373864 131.038125 \nL 470.39233 131.038125 \nz\n\" style=\"fill:#1f77b4;\"/>\n   </g>\n   <g id=\"patch_215\">\n    <path clip-path=\"url(#pe87ccaf904)\" d=\"M 472.373864 131.038125 \nL 474.355398 131.038125 \nL 474.355398 131.038125 \nL 472.373864 131.038125 \nz\n\" style=\"fill:#1f77b4;\"/>\n   </g>\n   <g id=\"patch_216\">\n    <path clip-path=\"url(#pe87ccaf904)\" d=\"M 474.355398 131.038125 \nL 476.336932 131.038125 \nL 476.336932 131.038125 \nL 474.355398 131.038125 \nz\n\" style=\"fill:#1f77b4;\"/>\n   </g>\n   <g id=\"patch_217\">\n    <path clip-path=\"url(#pe87ccaf904)\" d=\"M 476.336932 131.038125 \nL 478.318466 131.038125 \nL 478.318466 131.038125 \nL 476.336932 131.038125 \nz\n\" style=\"fill:#1f77b4;\"/>\n   </g>\n   <g id=\"patch_218\">\n    <path clip-path=\"url(#pe87ccaf904)\" d=\"M 478.318466 131.038125 \nL 480.3 131.038125 \nL 480.3 131.038125 \nL 478.318466 131.038125 \nz\n\" style=\"fill:#1f77b4;\"/>\n   </g>\n   <g id=\"patch_219\">\n    <path clip-path=\"url(#pe87ccaf904)\" d=\"M 480.3 131.038125 \nL 482.281534 131.038125 \nL 482.281534 131.038125 \nL 480.3 131.038125 \nz\n\" style=\"fill:#1f77b4;\"/>\n   </g>\n   <g id=\"patch_220\">\n    <path clip-path=\"url(#pe87ccaf904)\" d=\"M 482.281534 131.038125 \nL 484.263068 131.038125 \nL 484.263068 131.038125 \nL 482.281534 131.038125 \nz\n\" style=\"fill:#1f77b4;\"/>\n   </g>\n   <g id=\"patch_221\">\n    <path clip-path=\"url(#pe87ccaf904)\" d=\"M 484.263068 131.038125 \nL 486.244602 131.038125 \nL 486.244602 131.038125 \nL 484.263068 131.038125 \nz\n\" style=\"fill:#1f77b4;\"/>\n   </g>\n   <g id=\"patch_222\">\n    <path clip-path=\"url(#pe87ccaf904)\" d=\"M 486.244602 131.038125 \nL 488.226136 131.038125 \nL 488.226136 131.038125 \nL 486.244602 131.038125 \nz\n\" style=\"fill:#1f77b4;\"/>\n   </g>\n   <g id=\"patch_223\">\n    <path clip-path=\"url(#pe87ccaf904)\" d=\"M 488.226136 131.038125 \nL 490.20767 131.038125 \nL 490.20767 131.038125 \nL 488.226136 131.038125 \nz\n\" style=\"fill:#1f77b4;\"/>\n   </g>\n   <g id=\"patch_224\">\n    <path clip-path=\"url(#pe87ccaf904)\" d=\"M 490.20767 131.038125 \nL 492.189205 131.038125 \nL 492.189205 131.038125 \nL 490.20767 131.038125 \nz\n\" style=\"fill:#1f77b4;\"/>\n   </g>\n   <g id=\"patch_225\">\n    <path clip-path=\"url(#pe87ccaf904)\" d=\"M 492.189205 131.038125 \nL 494.170739 131.038125 \nL 494.170739 131.038125 \nL 492.189205 131.038125 \nz\n\" style=\"fill:#1f77b4;\"/>\n   </g>\n   <g id=\"patch_226\">\n    <path clip-path=\"url(#pe87ccaf904)\" d=\"M 494.170739 131.038125 \nL 496.152273 131.038125 \nL 496.152273 131.038125 \nL 494.170739 131.038125 \nz\n\" style=\"fill:#1f77b4;\"/>\n   </g>\n   <g id=\"patch_227\">\n    <path clip-path=\"url(#pe87ccaf904)\" d=\"M 496.152273 131.038125 \nL 498.133807 131.038125 \nL 498.133807 131.038125 \nL 496.152273 131.038125 \nz\n\" style=\"fill:#1f77b4;\"/>\n   </g>\n   <g id=\"patch_228\">\n    <path clip-path=\"url(#pe87ccaf904)\" d=\"M 498.133807 131.038125 \nL 500.115341 131.038125 \nL 500.115341 131.038125 \nL 498.133807 131.038125 \nz\n\" style=\"fill:#1f77b4;\"/>\n   </g>\n   <g id=\"patch_229\">\n    <path clip-path=\"url(#pe87ccaf904)\" d=\"M 500.115341 131.038125 \nL 502.096875 131.038125 \nL 502.096875 131.038125 \nL 500.115341 131.038125 \nz\n\" style=\"fill:#1f77b4;\"/>\n   </g>\n   <g id=\"patch_230\">\n    <path clip-path=\"url(#pe87ccaf904)\" d=\"M 502.096875 131.038125 \nL 504.078409 131.038125 \nL 504.078409 131.038125 \nL 502.096875 131.038125 \nz\n\" style=\"fill:#1f77b4;\"/>\n   </g>\n   <g id=\"patch_231\">\n    <path clip-path=\"url(#pe87ccaf904)\" d=\"M 504.078409 131.038125 \nL 506.059943 131.038125 \nL 506.059943 131.038125 \nL 504.078409 131.038125 \nz\n\" style=\"fill:#1f77b4;\"/>\n   </g>\n   <g id=\"patch_232\">\n    <path clip-path=\"url(#pe87ccaf904)\" d=\"M 506.059943 131.038125 \nL 508.041477 131.038125 \nL 508.041477 131.038125 \nL 506.059943 131.038125 \nz\n\" style=\"fill:#1f77b4;\"/>\n   </g>\n   <g id=\"patch_233\">\n    <path clip-path=\"url(#pe87ccaf904)\" d=\"M 508.041477 131.038125 \nL 510.023011 131.038125 \nL 510.023011 131.038125 \nL 508.041477 131.038125 \nz\n\" style=\"fill:#1f77b4;\"/>\n   </g>\n   <g id=\"patch_234\">\n    <path clip-path=\"url(#pe87ccaf904)\" d=\"M 510.023011 131.038125 \nL 512.004545 131.038125 \nL 512.004545 131.038125 \nL 510.023011 131.038125 \nz\n\" style=\"fill:#1f77b4;\"/>\n   </g>\n   <g id=\"patch_235\">\n    <path clip-path=\"url(#pe87ccaf904)\" d=\"M 512.004545 131.038125 \nL 513.98608 131.038125 \nL 513.98608 131.038125 \nL 512.004545 131.038125 \nz\n\" style=\"fill:#1f77b4;\"/>\n   </g>\n   <g id=\"patch_236\">\n    <path clip-path=\"url(#pe87ccaf904)\" d=\"M 513.98608 131.038125 \nL 515.967614 131.038125 \nL 515.967614 131.038125 \nL 513.98608 131.038125 \nz\n\" style=\"fill:#1f77b4;\"/>\n   </g>\n   <g id=\"patch_237\">\n    <path clip-path=\"url(#pe87ccaf904)\" d=\"M 515.967614 131.038125 \nL 517.949148 131.038125 \nL 517.949148 131.038125 \nL 515.967614 131.038125 \nz\n\" style=\"fill:#1f77b4;\"/>\n   </g>\n   <g id=\"patch_238\">\n    <path clip-path=\"url(#pe87ccaf904)\" d=\"M 517.949148 131.038125 \nL 519.930682 131.038125 \nL 519.930682 131.038125 \nL 517.949148 131.038125 \nz\n\" style=\"fill:#1f77b4;\"/>\n   </g>\n   <g id=\"patch_239\">\n    <path clip-path=\"url(#pe87ccaf904)\" d=\"M 519.930682 131.038125 \nL 521.912216 131.038125 \nL 521.912216 131.038125 \nL 519.930682 131.038125 \nz\n\" style=\"fill:#1f77b4;\"/>\n   </g>\n   <g id=\"patch_240\">\n    <path clip-path=\"url(#pe87ccaf904)\" d=\"M 521.912216 131.038125 \nL 523.89375 131.038125 \nL 523.89375 131.038125 \nL 521.912216 131.038125 \nz\n\" style=\"fill:#1f77b4;\"/>\n   </g>\n   <g id=\"patch_241\">\n    <path clip-path=\"url(#pe87ccaf904)\" d=\"M 523.89375 131.038125 \nL 525.875284 131.038125 \nL 525.875284 131.038125 \nL 523.89375 131.038125 \nz\n\" style=\"fill:#1f77b4;\"/>\n   </g>\n   <g id=\"patch_242\">\n    <path clip-path=\"url(#pe87ccaf904)\" d=\"M 525.875284 131.038125 \nL 527.856818 131.038125 \nL 527.856818 131.038125 \nL 525.875284 131.038125 \nz\n\" style=\"fill:#1f77b4;\"/>\n   </g>\n   <g id=\"patch_243\">\n    <path clip-path=\"url(#pe87ccaf904)\" d=\"M 527.856818 131.038125 \nL 529.838352 131.038125 \nL 529.838352 131.038125 \nL 527.856818 131.038125 \nz\n\" style=\"fill:#1f77b4;\"/>\n   </g>\n   <g id=\"patch_244\">\n    <path clip-path=\"url(#pe87ccaf904)\" d=\"M 529.838352 131.038125 \nL 531.819886 131.038125 \nL 531.819886 131.038125 \nL 529.838352 131.038125 \nz\n\" style=\"fill:#1f77b4;\"/>\n   </g>\n   <g id=\"patch_245\">\n    <path clip-path=\"url(#pe87ccaf904)\" d=\"M 531.819886 131.038125 \nL 533.80142 131.038125 \nL 533.80142 131.038125 \nL 531.819886 131.038125 \nz\n\" style=\"fill:#1f77b4;\"/>\n   </g>\n   <g id=\"patch_246\">\n    <path clip-path=\"url(#pe87ccaf904)\" d=\"M 533.80142 131.038125 \nL 535.782955 131.038125 \nL 535.782955 131.038125 \nL 533.80142 131.038125 \nz\n\" style=\"fill:#1f77b4;\"/>\n   </g>\n   <g id=\"patch_247\">\n    <path clip-path=\"url(#pe87ccaf904)\" d=\"M 535.782955 131.038125 \nL 537.764489 131.038125 \nL 537.764489 131.038125 \nL 535.782955 131.038125 \nz\n\" style=\"fill:#1f77b4;\"/>\n   </g>\n   <g id=\"patch_248\">\n    <path clip-path=\"url(#pe87ccaf904)\" d=\"M 537.764489 131.038125 \nL 539.746023 131.038125 \nL 539.746023 131.038125 \nL 537.764489 131.038125 \nz\n\" style=\"fill:#1f77b4;\"/>\n   </g>\n   <g id=\"patch_249\">\n    <path clip-path=\"url(#pe87ccaf904)\" d=\"M 539.746023 131.038125 \nL 541.727557 131.038125 \nL 541.727557 131.038125 \nL 539.746023 131.038125 \nz\n\" style=\"fill:#1f77b4;\"/>\n   </g>\n   <g id=\"patch_250\">\n    <path clip-path=\"url(#pe87ccaf904)\" d=\"M 541.727557 131.038125 \nL 543.709091 131.038125 \nL 543.709091 131.038125 \nL 541.727557 131.038125 \nz\n\" style=\"fill:#1f77b4;\"/>\n   </g>\n   <g id=\"patch_251\">\n    <path clip-path=\"url(#pe87ccaf904)\" d=\"M 543.709091 131.038125 \nL 545.690625 131.038125 \nL 545.690625 131.038125 \nL 543.709091 131.038125 \nz\n\" style=\"fill:#1f77b4;\"/>\n   </g>\n   <g id=\"patch_252\">\n    <path clip-path=\"url(#pe87ccaf904)\" d=\"M 545.690625 131.038125 \nL 547.672159 131.038125 \nL 547.672159 131.038125 \nL 545.690625 131.038125 \nz\n\" style=\"fill:#1f77b4;\"/>\n   </g>\n   <g id=\"patch_253\">\n    <path clip-path=\"url(#pe87ccaf904)\" d=\"M 547.672159 131.038125 \nL 549.653693 131.038125 \nL 549.653693 131.038125 \nL 547.672159 131.038125 \nz\n\" style=\"fill:#1f77b4;\"/>\n   </g>\n   <g id=\"patch_254\">\n    <path clip-path=\"url(#pe87ccaf904)\" d=\"M 549.653693 131.038125 \nL 551.635227 131.038125 \nL 551.635227 131.038125 \nL 549.653693 131.038125 \nz\n\" style=\"fill:#1f77b4;\"/>\n   </g>\n   <g id=\"patch_255\">\n    <path clip-path=\"url(#pe87ccaf904)\" d=\"M 551.635227 131.038125 \nL 553.616761 131.038125 \nL 553.616761 131.038125 \nL 551.635227 131.038125 \nz\n\" style=\"fill:#1f77b4;\"/>\n   </g>\n   <g id=\"patch_256\">\n    <path clip-path=\"url(#pe87ccaf904)\" d=\"M 553.616761 131.038125 \nL 555.598295 131.038125 \nL 555.598295 131.038125 \nL 553.616761 131.038125 \nz\n\" style=\"fill:#1f77b4;\"/>\n   </g>\n   <g id=\"patch_257\">\n    <path clip-path=\"url(#pe87ccaf904)\" d=\"M 555.598295 131.038125 \nL 557.57983 131.038125 \nL 557.57983 131.038125 \nL 555.598295 131.038125 \nz\n\" style=\"fill:#1f77b4;\"/>\n   </g>\n   <g id=\"patch_258\">\n    <path clip-path=\"url(#pe87ccaf904)\" d=\"M 557.57983 131.038125 \nL 559.561364 131.038125 \nL 559.561364 131.038125 \nL 557.57983 131.038125 \nz\n\" style=\"fill:#1f77b4;\"/>\n   </g>\n   <g id=\"matplotlib.axis_1\">\n    <g id=\"xtick_1\">\n     <g id=\"line2d_1\">\n      <defs>\n       <path d=\"M 0 0 \nL 0 3.5 \n\" id=\"m3e3744bef2\" style=\"stroke:#000000;stroke-width:0.8;\"/>\n      </defs>\n      <g>\n       <use style=\"stroke:#000000;stroke-width:0.8;\" x=\"52.280896\" xlink:href=\"#m3e3744bef2\" y=\"131.038125\"/>\n      </g>\n     </g>\n     <g id=\"text_1\">\n      <!-- 0 -->\n      <g transform=\"translate(49.099646 145.636562)scale(0.1 -0.1)\">\n       <defs>\n        <path d=\"M 31.78125 66.40625 \nQ 24.171875 66.40625 20.328125 58.90625 \nQ 16.5 51.421875 16.5 36.375 \nQ 16.5 21.390625 20.328125 13.890625 \nQ 24.171875 6.390625 31.78125 6.390625 \nQ 39.453125 6.390625 43.28125 13.890625 \nQ 47.125 21.390625 47.125 36.375 \nQ 47.125 51.421875 43.28125 58.90625 \nQ 39.453125 66.40625 31.78125 66.40625 \nz\nM 31.78125 74.21875 \nQ 44.046875 74.21875 50.515625 64.515625 \nQ 56.984375 54.828125 56.984375 36.375 \nQ 56.984375 17.96875 50.515625 8.265625 \nQ 44.046875 -1.421875 31.78125 -1.421875 \nQ 19.53125 -1.421875 13.0625 8.265625 \nQ 6.59375 17.96875 6.59375 36.375 \nQ 6.59375 54.828125 13.0625 64.515625 \nQ 19.53125 74.21875 31.78125 74.21875 \nz\n\" id=\"DejaVuSans-48\"/>\n       </defs>\n       <use xlink:href=\"#DejaVuSans-48\"/>\n      </g>\n     </g>\n    </g>\n    <g id=\"xtick_2\">\n     <g id=\"line2d_2\">\n      <g>\n       <use style=\"stroke:#000000;stroke-width:0.8;\" x=\"129.685752\" xlink:href=\"#m3e3744bef2\" y=\"131.038125\"/>\n      </g>\n     </g>\n     <g id=\"text_2\">\n      <!-- 10000 -->\n      <g transform=\"translate(113.779502 145.636562)scale(0.1 -0.1)\">\n       <defs>\n        <path d=\"M 12.40625 8.296875 \nL 28.515625 8.296875 \nL 28.515625 63.921875 \nL 10.984375 60.40625 \nL 10.984375 69.390625 \nL 28.421875 72.90625 \nL 38.28125 72.90625 \nL 38.28125 8.296875 \nL 54.390625 8.296875 \nL 54.390625 0 \nL 12.40625 0 \nz\n\" id=\"DejaVuSans-49\"/>\n       </defs>\n       <use xlink:href=\"#DejaVuSans-49\"/>\n       <use x=\"63.623047\" xlink:href=\"#DejaVuSans-48\"/>\n       <use x=\"127.246094\" xlink:href=\"#DejaVuSans-48\"/>\n       <use x=\"190.869141\" xlink:href=\"#DejaVuSans-48\"/>\n       <use x=\"254.492188\" xlink:href=\"#DejaVuSans-48\"/>\n      </g>\n     </g>\n    </g>\n    <g id=\"xtick_3\">\n     <g id=\"line2d_3\">\n      <g>\n       <use style=\"stroke:#000000;stroke-width:0.8;\" x=\"207.090609\" xlink:href=\"#m3e3744bef2\" y=\"131.038125\"/>\n      </g>\n     </g>\n     <g id=\"text_3\">\n      <!-- 20000 -->\n      <g transform=\"translate(191.184359 145.636562)scale(0.1 -0.1)\">\n       <defs>\n        <path d=\"M 19.1875 8.296875 \nL 53.609375 8.296875 \nL 53.609375 0 \nL 7.328125 0 \nL 7.328125 8.296875 \nQ 12.9375 14.109375 22.625 23.890625 \nQ 32.328125 33.6875 34.8125 36.53125 \nQ 39.546875 41.84375 41.421875 45.53125 \nQ 43.3125 49.21875 43.3125 52.78125 \nQ 43.3125 58.59375 39.234375 62.25 \nQ 35.15625 65.921875 28.609375 65.921875 \nQ 23.96875 65.921875 18.8125 64.3125 \nQ 13.671875 62.703125 7.8125 59.421875 \nL 7.8125 69.390625 \nQ 13.765625 71.78125 18.9375 73 \nQ 24.125 74.21875 28.421875 74.21875 \nQ 39.75 74.21875 46.484375 68.546875 \nQ 53.21875 62.890625 53.21875 53.421875 \nQ 53.21875 48.921875 51.53125 44.890625 \nQ 49.859375 40.875 45.40625 35.40625 \nQ 44.1875 33.984375 37.640625 27.21875 \nQ 31.109375 20.453125 19.1875 8.296875 \nz\n\" id=\"DejaVuSans-50\"/>\n       </defs>\n       <use xlink:href=\"#DejaVuSans-50\"/>\n       <use x=\"63.623047\" xlink:href=\"#DejaVuSans-48\"/>\n       <use x=\"127.246094\" xlink:href=\"#DejaVuSans-48\"/>\n       <use x=\"190.869141\" xlink:href=\"#DejaVuSans-48\"/>\n       <use x=\"254.492188\" xlink:href=\"#DejaVuSans-48\"/>\n      </g>\n     </g>\n    </g>\n    <g id=\"xtick_4\">\n     <g id=\"line2d_4\">\n      <g>\n       <use style=\"stroke:#000000;stroke-width:0.8;\" x=\"284.495465\" xlink:href=\"#m3e3744bef2\" y=\"131.038125\"/>\n      </g>\n     </g>\n     <g id=\"text_4\">\n      <!-- 30000 -->\n      <g transform=\"translate(268.589215 145.636562)scale(0.1 -0.1)\">\n       <defs>\n        <path d=\"M 40.578125 39.3125 \nQ 47.65625 37.796875 51.625 33 \nQ 55.609375 28.21875 55.609375 21.1875 \nQ 55.609375 10.40625 48.1875 4.484375 \nQ 40.765625 -1.421875 27.09375 -1.421875 \nQ 22.515625 -1.421875 17.65625 -0.515625 \nQ 12.796875 0.390625 7.625 2.203125 \nL 7.625 11.71875 \nQ 11.71875 9.328125 16.59375 8.109375 \nQ 21.484375 6.890625 26.8125 6.890625 \nQ 36.078125 6.890625 40.9375 10.546875 \nQ 45.796875 14.203125 45.796875 21.1875 \nQ 45.796875 27.640625 41.28125 31.265625 \nQ 36.765625 34.90625 28.71875 34.90625 \nL 20.21875 34.90625 \nL 20.21875 43.015625 \nL 29.109375 43.015625 \nQ 36.375 43.015625 40.234375 45.921875 \nQ 44.09375 48.828125 44.09375 54.296875 \nQ 44.09375 59.90625 40.109375 62.90625 \nQ 36.140625 65.921875 28.71875 65.921875 \nQ 24.65625 65.921875 20.015625 65.03125 \nQ 15.375 64.15625 9.8125 62.3125 \nL 9.8125 71.09375 \nQ 15.4375 72.65625 20.34375 73.4375 \nQ 25.25 74.21875 29.59375 74.21875 \nQ 40.828125 74.21875 47.359375 69.109375 \nQ 53.90625 64.015625 53.90625 55.328125 \nQ 53.90625 49.265625 50.4375 45.09375 \nQ 46.96875 40.921875 40.578125 39.3125 \nz\n\" id=\"DejaVuSans-51\"/>\n       </defs>\n       <use xlink:href=\"#DejaVuSans-51\"/>\n       <use x=\"63.623047\" xlink:href=\"#DejaVuSans-48\"/>\n       <use x=\"127.246094\" xlink:href=\"#DejaVuSans-48\"/>\n       <use x=\"190.869141\" xlink:href=\"#DejaVuSans-48\"/>\n       <use x=\"254.492188\" xlink:href=\"#DejaVuSans-48\"/>\n      </g>\n     </g>\n    </g>\n    <g id=\"xtick_5\">\n     <g id=\"line2d_5\">\n      <g>\n       <use style=\"stroke:#000000;stroke-width:0.8;\" x=\"361.900322\" xlink:href=\"#m3e3744bef2\" y=\"131.038125\"/>\n      </g>\n     </g>\n     <g id=\"text_5\">\n      <!-- 40000 -->\n      <g transform=\"translate(345.994072 145.636562)scale(0.1 -0.1)\">\n       <defs>\n        <path d=\"M 37.796875 64.3125 \nL 12.890625 25.390625 \nL 37.796875 25.390625 \nz\nM 35.203125 72.90625 \nL 47.609375 72.90625 \nL 47.609375 25.390625 \nL 58.015625 25.390625 \nL 58.015625 17.1875 \nL 47.609375 17.1875 \nL 47.609375 0 \nL 37.796875 0 \nL 37.796875 17.1875 \nL 4.890625 17.1875 \nL 4.890625 26.703125 \nz\n\" id=\"DejaVuSans-52\"/>\n       </defs>\n       <use xlink:href=\"#DejaVuSans-52\"/>\n       <use x=\"63.623047\" xlink:href=\"#DejaVuSans-48\"/>\n       <use x=\"127.246094\" xlink:href=\"#DejaVuSans-48\"/>\n       <use x=\"190.869141\" xlink:href=\"#DejaVuSans-48\"/>\n       <use x=\"254.492188\" xlink:href=\"#DejaVuSans-48\"/>\n      </g>\n     </g>\n    </g>\n    <g id=\"xtick_6\">\n     <g id=\"line2d_6\">\n      <g>\n       <use style=\"stroke:#000000;stroke-width:0.8;\" x=\"439.305179\" xlink:href=\"#m3e3744bef2\" y=\"131.038125\"/>\n      </g>\n     </g>\n     <g id=\"text_6\">\n      <!-- 50000 -->\n      <g transform=\"translate(423.398929 145.636562)scale(0.1 -0.1)\">\n       <defs>\n        <path d=\"M 10.796875 72.90625 \nL 49.515625 72.90625 \nL 49.515625 64.59375 \nL 19.828125 64.59375 \nL 19.828125 46.734375 \nQ 21.96875 47.46875 24.109375 47.828125 \nQ 26.265625 48.1875 28.421875 48.1875 \nQ 40.625 48.1875 47.75 41.5 \nQ 54.890625 34.8125 54.890625 23.390625 \nQ 54.890625 11.625 47.5625 5.09375 \nQ 40.234375 -1.421875 26.90625 -1.421875 \nQ 22.3125 -1.421875 17.546875 -0.640625 \nQ 12.796875 0.140625 7.71875 1.703125 \nL 7.71875 11.625 \nQ 12.109375 9.234375 16.796875 8.0625 \nQ 21.484375 6.890625 26.703125 6.890625 \nQ 35.15625 6.890625 40.078125 11.328125 \nQ 45.015625 15.765625 45.015625 23.390625 \nQ 45.015625 31 40.078125 35.4375 \nQ 35.15625 39.890625 26.703125 39.890625 \nQ 22.75 39.890625 18.8125 39.015625 \nQ 14.890625 38.140625 10.796875 36.28125 \nz\n\" id=\"DejaVuSans-53\"/>\n       </defs>\n       <use xlink:href=\"#DejaVuSans-53\"/>\n       <use x=\"63.623047\" xlink:href=\"#DejaVuSans-48\"/>\n       <use x=\"127.246094\" xlink:href=\"#DejaVuSans-48\"/>\n       <use x=\"190.869141\" xlink:href=\"#DejaVuSans-48\"/>\n       <use x=\"254.492188\" xlink:href=\"#DejaVuSans-48\"/>\n      </g>\n     </g>\n    </g>\n    <g id=\"xtick_7\">\n     <g id=\"line2d_7\">\n      <g>\n       <use style=\"stroke:#000000;stroke-width:0.8;\" x=\"516.710035\" xlink:href=\"#m3e3744bef2\" y=\"131.038125\"/>\n      </g>\n     </g>\n     <g id=\"text_7\">\n      <!-- 60000 -->\n      <g transform=\"translate(500.803785 145.636562)scale(0.1 -0.1)\">\n       <defs>\n        <path d=\"M 33.015625 40.375 \nQ 26.375 40.375 22.484375 35.828125 \nQ 18.609375 31.296875 18.609375 23.390625 \nQ 18.609375 15.53125 22.484375 10.953125 \nQ 26.375 6.390625 33.015625 6.390625 \nQ 39.65625 6.390625 43.53125 10.953125 \nQ 47.40625 15.53125 47.40625 23.390625 \nQ 47.40625 31.296875 43.53125 35.828125 \nQ 39.65625 40.375 33.015625 40.375 \nz\nM 52.59375 71.296875 \nL 52.59375 62.3125 \nQ 48.875 64.0625 45.09375 64.984375 \nQ 41.3125 65.921875 37.59375 65.921875 \nQ 27.828125 65.921875 22.671875 59.328125 \nQ 17.53125 52.734375 16.796875 39.40625 \nQ 19.671875 43.65625 24.015625 45.921875 \nQ 28.375 48.1875 33.59375 48.1875 \nQ 44.578125 48.1875 50.953125 41.515625 \nQ 57.328125 34.859375 57.328125 23.390625 \nQ 57.328125 12.15625 50.6875 5.359375 \nQ 44.046875 -1.421875 33.015625 -1.421875 \nQ 20.359375 -1.421875 13.671875 8.265625 \nQ 6.984375 17.96875 6.984375 36.375 \nQ 6.984375 53.65625 15.1875 63.9375 \nQ 23.390625 74.21875 37.203125 74.21875 \nQ 40.921875 74.21875 44.703125 73.484375 \nQ 48.484375 72.75 52.59375 71.296875 \nz\n\" id=\"DejaVuSans-54\"/>\n       </defs>\n       <use xlink:href=\"#DejaVuSans-54\"/>\n       <use x=\"63.623047\" xlink:href=\"#DejaVuSans-48\"/>\n       <use x=\"127.246094\" xlink:href=\"#DejaVuSans-48\"/>\n       <use x=\"190.869141\" xlink:href=\"#DejaVuSans-48\"/>\n       <use x=\"254.492188\" xlink:href=\"#DejaVuSans-48\"/>\n      </g>\n     </g>\n    </g>\n   </g>\n   <g id=\"matplotlib.axis_2\">\n    <g id=\"ytick_1\">\n     <g id=\"line2d_8\">\n      <defs>\n       <path d=\"M 0 0 \nL -3.5 0 \n\" id=\"ma4dd2e9f9b\" style=\"stroke:#000000;stroke-width:0.8;\"/>\n      </defs>\n      <g>\n       <use style=\"stroke:#000000;stroke-width:0.8;\" x=\"26.925\" xlink:href=\"#ma4dd2e9f9b\" y=\"131.038125\"/>\n      </g>\n     </g>\n     <g id=\"text_8\">\n      <!-- 0 -->\n      <g transform=\"translate(13.5625 134.837344)scale(0.1 -0.1)\">\n       <use xlink:href=\"#DejaVuSans-48\"/>\n      </g>\n     </g>\n    </g>\n    <g id=\"ytick_2\">\n     <g id=\"line2d_9\">\n      <g>\n       <use style=\"stroke:#000000;stroke-width:0.8;\" x=\"26.925\" xlink:href=\"#ma4dd2e9f9b\" y=\"96.523839\"/>\n      </g>\n     </g>\n     <g id=\"text_9\">\n      <!-- 5 -->\n      <g transform=\"translate(13.5625 100.323058)scale(0.1 -0.1)\">\n       <use xlink:href=\"#DejaVuSans-53\"/>\n      </g>\n     </g>\n    </g>\n    <g id=\"ytick_3\">\n     <g id=\"line2d_10\">\n      <g>\n       <use style=\"stroke:#000000;stroke-width:0.8;\" x=\"26.925\" xlink:href=\"#ma4dd2e9f9b\" y=\"62.009554\"/>\n      </g>\n     </g>\n     <g id=\"text_10\">\n      <!-- 10 -->\n      <g transform=\"translate(7.2 65.808772)scale(0.1 -0.1)\">\n       <use xlink:href=\"#DejaVuSans-49\"/>\n       <use x=\"63.623047\" xlink:href=\"#DejaVuSans-48\"/>\n      </g>\n     </g>\n    </g>\n    <g id=\"ytick_4\">\n     <g id=\"line2d_11\">\n      <g>\n       <use style=\"stroke:#000000;stroke-width:0.8;\" x=\"26.925\" xlink:href=\"#ma4dd2e9f9b\" y=\"27.495268\"/>\n      </g>\n     </g>\n     <g id=\"text_11\">\n      <!-- 15 -->\n      <g transform=\"translate(7.2 31.294487)scale(0.1 -0.1)\">\n       <use xlink:href=\"#DejaVuSans-49\"/>\n       <use x=\"63.623047\" xlink:href=\"#DejaVuSans-53\"/>\n      </g>\n     </g>\n    </g>\n   </g>\n   <g id=\"patch_259\">\n    <path d=\"M 26.925 131.038125 \nL 26.925 22.318125 \n\" style=\"fill:none;stroke:#000000;stroke-linecap:square;stroke-linejoin:miter;stroke-width:0.8;\"/>\n   </g>\n   <g id=\"patch_260\">\n    <path d=\"M 584.925 131.038125 \nL 584.925 22.318125 \n\" style=\"fill:none;stroke:#000000;stroke-linecap:square;stroke-linejoin:miter;stroke-width:0.8;\"/>\n   </g>\n   <g id=\"patch_261\">\n    <path d=\"M 26.925 131.038125 \nL 584.925 131.038125 \n\" style=\"fill:none;stroke:#000000;stroke-linecap:square;stroke-linejoin:miter;stroke-width:0.8;\"/>\n   </g>\n   <g id=\"patch_262\">\n    <path d=\"M 26.925 22.318125 \nL 584.925 22.318125 \n\" style=\"fill:none;stroke:#000000;stroke-linecap:square;stroke-linejoin:miter;stroke-width:0.8;\"/>\n   </g>\n   <g id=\"text_12\">\n    <!-- points numbers -->\n    <g transform=\"translate(259.048125 16.318125)scale(0.12 -0.12)\">\n     <defs>\n      <path d=\"M 18.109375 8.203125 \nL 18.109375 -20.796875 \nL 9.078125 -20.796875 \nL 9.078125 54.6875 \nL 18.109375 54.6875 \nL 18.109375 46.390625 \nQ 20.953125 51.265625 25.265625 53.625 \nQ 29.59375 56 35.59375 56 \nQ 45.5625 56 51.78125 48.09375 \nQ 58.015625 40.1875 58.015625 27.296875 \nQ 58.015625 14.40625 51.78125 6.484375 \nQ 45.5625 -1.421875 35.59375 -1.421875 \nQ 29.59375 -1.421875 25.265625 0.953125 \nQ 20.953125 3.328125 18.109375 8.203125 \nz\nM 48.6875 27.296875 \nQ 48.6875 37.203125 44.609375 42.84375 \nQ 40.53125 48.484375 33.40625 48.484375 \nQ 26.265625 48.484375 22.1875 42.84375 \nQ 18.109375 37.203125 18.109375 27.296875 \nQ 18.109375 17.390625 22.1875 11.75 \nQ 26.265625 6.109375 33.40625 6.109375 \nQ 40.53125 6.109375 44.609375 11.75 \nQ 48.6875 17.390625 48.6875 27.296875 \nz\n\" id=\"DejaVuSans-112\"/>\n      <path d=\"M 30.609375 48.390625 \nQ 23.390625 48.390625 19.1875 42.75 \nQ 14.984375 37.109375 14.984375 27.296875 \nQ 14.984375 17.484375 19.15625 11.84375 \nQ 23.34375 6.203125 30.609375 6.203125 \nQ 37.796875 6.203125 41.984375 11.859375 \nQ 46.1875 17.53125 46.1875 27.296875 \nQ 46.1875 37.015625 41.984375 42.703125 \nQ 37.796875 48.390625 30.609375 48.390625 \nz\nM 30.609375 56 \nQ 42.328125 56 49.015625 48.375 \nQ 55.71875 40.765625 55.71875 27.296875 \nQ 55.71875 13.875 49.015625 6.21875 \nQ 42.328125 -1.421875 30.609375 -1.421875 \nQ 18.84375 -1.421875 12.171875 6.21875 \nQ 5.515625 13.875 5.515625 27.296875 \nQ 5.515625 40.765625 12.171875 48.375 \nQ 18.84375 56 30.609375 56 \nz\n\" id=\"DejaVuSans-111\"/>\n      <path d=\"M 9.421875 54.6875 \nL 18.40625 54.6875 \nL 18.40625 0 \nL 9.421875 0 \nz\nM 9.421875 75.984375 \nL 18.40625 75.984375 \nL 18.40625 64.59375 \nL 9.421875 64.59375 \nz\n\" id=\"DejaVuSans-105\"/>\n      <path d=\"M 54.890625 33.015625 \nL 54.890625 0 \nL 45.90625 0 \nL 45.90625 32.71875 \nQ 45.90625 40.484375 42.875 44.328125 \nQ 39.84375 48.1875 33.796875 48.1875 \nQ 26.515625 48.1875 22.3125 43.546875 \nQ 18.109375 38.921875 18.109375 30.90625 \nL 18.109375 0 \nL 9.078125 0 \nL 9.078125 54.6875 \nL 18.109375 54.6875 \nL 18.109375 46.1875 \nQ 21.34375 51.125 25.703125 53.5625 \nQ 30.078125 56 35.796875 56 \nQ 45.21875 56 50.046875 50.171875 \nQ 54.890625 44.34375 54.890625 33.015625 \nz\n\" id=\"DejaVuSans-110\"/>\n      <path d=\"M 18.3125 70.21875 \nL 18.3125 54.6875 \nL 36.8125 54.6875 \nL 36.8125 47.703125 \nL 18.3125 47.703125 \nL 18.3125 18.015625 \nQ 18.3125 11.328125 20.140625 9.421875 \nQ 21.96875 7.515625 27.59375 7.515625 \nL 36.8125 7.515625 \nL 36.8125 0 \nL 27.59375 0 \nQ 17.1875 0 13.234375 3.875 \nQ 9.28125 7.765625 9.28125 18.015625 \nL 9.28125 47.703125 \nL 2.6875 47.703125 \nL 2.6875 54.6875 \nL 9.28125 54.6875 \nL 9.28125 70.21875 \nz\n\" id=\"DejaVuSans-116\"/>\n      <path d=\"M 44.28125 53.078125 \nL 44.28125 44.578125 \nQ 40.484375 46.53125 36.375 47.5 \nQ 32.28125 48.484375 27.875 48.484375 \nQ 21.1875 48.484375 17.84375 46.4375 \nQ 14.5 44.390625 14.5 40.28125 \nQ 14.5 37.15625 16.890625 35.375 \nQ 19.28125 33.59375 26.515625 31.984375 \nL 29.59375 31.296875 \nQ 39.15625 29.25 43.1875 25.515625 \nQ 47.21875 21.78125 47.21875 15.09375 \nQ 47.21875 7.46875 41.1875 3.015625 \nQ 35.15625 -1.421875 24.609375 -1.421875 \nQ 20.21875 -1.421875 15.453125 -0.5625 \nQ 10.6875 0.296875 5.421875 2 \nL 5.421875 11.28125 \nQ 10.40625 8.6875 15.234375 7.390625 \nQ 20.0625 6.109375 24.8125 6.109375 \nQ 31.15625 6.109375 34.5625 8.28125 \nQ 37.984375 10.453125 37.984375 14.40625 \nQ 37.984375 18.0625 35.515625 20.015625 \nQ 33.0625 21.96875 24.703125 23.78125 \nL 21.578125 24.515625 \nQ 13.234375 26.265625 9.515625 29.90625 \nQ 5.8125 33.546875 5.8125 39.890625 \nQ 5.8125 47.609375 11.28125 51.796875 \nQ 16.75 56 26.8125 56 \nQ 31.78125 56 36.171875 55.265625 \nQ 40.578125 54.546875 44.28125 53.078125 \nz\n\" id=\"DejaVuSans-115\"/>\n      <path id=\"DejaVuSans-32\"/>\n      <path d=\"M 8.5 21.578125 \nL 8.5 54.6875 \nL 17.484375 54.6875 \nL 17.484375 21.921875 \nQ 17.484375 14.15625 20.5 10.265625 \nQ 23.53125 6.390625 29.59375 6.390625 \nQ 36.859375 6.390625 41.078125 11.03125 \nQ 45.3125 15.671875 45.3125 23.6875 \nL 45.3125 54.6875 \nL 54.296875 54.6875 \nL 54.296875 0 \nL 45.3125 0 \nL 45.3125 8.40625 \nQ 42.046875 3.421875 37.71875 1 \nQ 33.40625 -1.421875 27.6875 -1.421875 \nQ 18.265625 -1.421875 13.375 4.4375 \nQ 8.5 10.296875 8.5 21.578125 \nz\nM 31.109375 56 \nz\n\" id=\"DejaVuSans-117\"/>\n      <path d=\"M 52 44.1875 \nQ 55.375 50.25 60.0625 53.125 \nQ 64.75 56 71.09375 56 \nQ 79.640625 56 84.28125 50.015625 \nQ 88.921875 44.046875 88.921875 33.015625 \nL 88.921875 0 \nL 79.890625 0 \nL 79.890625 32.71875 \nQ 79.890625 40.578125 77.09375 44.375 \nQ 74.3125 48.1875 68.609375 48.1875 \nQ 61.625 48.1875 57.5625 43.546875 \nQ 53.515625 38.921875 53.515625 30.90625 \nL 53.515625 0 \nL 44.484375 0 \nL 44.484375 32.71875 \nQ 44.484375 40.625 41.703125 44.40625 \nQ 38.921875 48.1875 33.109375 48.1875 \nQ 26.21875 48.1875 22.15625 43.53125 \nQ 18.109375 38.875 18.109375 30.90625 \nL 18.109375 0 \nL 9.078125 0 \nL 9.078125 54.6875 \nL 18.109375 54.6875 \nL 18.109375 46.1875 \nQ 21.1875 51.21875 25.484375 53.609375 \nQ 29.78125 56 35.6875 56 \nQ 41.65625 56 45.828125 52.96875 \nQ 50 49.953125 52 44.1875 \nz\n\" id=\"DejaVuSans-109\"/>\n      <path d=\"M 48.6875 27.296875 \nQ 48.6875 37.203125 44.609375 42.84375 \nQ 40.53125 48.484375 33.40625 48.484375 \nQ 26.265625 48.484375 22.1875 42.84375 \nQ 18.109375 37.203125 18.109375 27.296875 \nQ 18.109375 17.390625 22.1875 11.75 \nQ 26.265625 6.109375 33.40625 6.109375 \nQ 40.53125 6.109375 44.609375 11.75 \nQ 48.6875 17.390625 48.6875 27.296875 \nz\nM 18.109375 46.390625 \nQ 20.953125 51.265625 25.265625 53.625 \nQ 29.59375 56 35.59375 56 \nQ 45.5625 56 51.78125 48.09375 \nQ 58.015625 40.1875 58.015625 27.296875 \nQ 58.015625 14.40625 51.78125 6.484375 \nQ 45.5625 -1.421875 35.59375 -1.421875 \nQ 29.59375 -1.421875 25.265625 0.953125 \nQ 20.953125 3.328125 18.109375 8.203125 \nL 18.109375 0 \nL 9.078125 0 \nL 9.078125 75.984375 \nL 18.109375 75.984375 \nz\n\" id=\"DejaVuSans-98\"/>\n      <path d=\"M 56.203125 29.59375 \nL 56.203125 25.203125 \nL 14.890625 25.203125 \nQ 15.484375 15.921875 20.484375 11.0625 \nQ 25.484375 6.203125 34.421875 6.203125 \nQ 39.59375 6.203125 44.453125 7.46875 \nQ 49.3125 8.734375 54.109375 11.28125 \nL 54.109375 2.78125 \nQ 49.265625 0.734375 44.1875 -0.34375 \nQ 39.109375 -1.421875 33.890625 -1.421875 \nQ 20.796875 -1.421875 13.15625 6.1875 \nQ 5.515625 13.8125 5.515625 26.8125 \nQ 5.515625 40.234375 12.765625 48.109375 \nQ 20.015625 56 32.328125 56 \nQ 43.359375 56 49.78125 48.890625 \nQ 56.203125 41.796875 56.203125 29.59375 \nz\nM 47.21875 32.234375 \nQ 47.125 39.59375 43.09375 43.984375 \nQ 39.0625 48.390625 32.421875 48.390625 \nQ 24.90625 48.390625 20.390625 44.140625 \nQ 15.875 39.890625 15.1875 32.171875 \nz\n\" id=\"DejaVuSans-101\"/>\n      <path d=\"M 41.109375 46.296875 \nQ 39.59375 47.171875 37.8125 47.578125 \nQ 36.03125 48 33.890625 48 \nQ 26.265625 48 22.1875 43.046875 \nQ 18.109375 38.09375 18.109375 28.8125 \nL 18.109375 0 \nL 9.078125 0 \nL 9.078125 54.6875 \nL 18.109375 54.6875 \nL 18.109375 46.1875 \nQ 20.953125 51.171875 25.484375 53.578125 \nQ 30.03125 56 36.53125 56 \nQ 37.453125 56 38.578125 55.875 \nQ 39.703125 55.765625 41.0625 55.515625 \nz\n\" id=\"DejaVuSans-114\"/>\n     </defs>\n     <use xlink:href=\"#DejaVuSans-112\"/>\n     <use x=\"63.476562\" xlink:href=\"#DejaVuSans-111\"/>\n     <use x=\"124.658203\" xlink:href=\"#DejaVuSans-105\"/>\n     <use x=\"152.441406\" xlink:href=\"#DejaVuSans-110\"/>\n     <use x=\"215.820312\" xlink:href=\"#DejaVuSans-116\"/>\n     <use x=\"255.029297\" xlink:href=\"#DejaVuSans-115\"/>\n     <use x=\"307.128906\" xlink:href=\"#DejaVuSans-32\"/>\n     <use x=\"338.916016\" xlink:href=\"#DejaVuSans-110\"/>\n     <use x=\"402.294922\" xlink:href=\"#DejaVuSans-117\"/>\n     <use x=\"465.673828\" xlink:href=\"#DejaVuSans-109\"/>\n     <use x=\"563.085938\" xlink:href=\"#DejaVuSans-98\"/>\n     <use x=\"626.5625\" xlink:href=\"#DejaVuSans-101\"/>\n     <use x=\"688.085938\" xlink:href=\"#DejaVuSans-114\"/>\n     <use x=\"729.199219\" xlink:href=\"#DejaVuSans-115\"/>\n    </g>\n   </g>\n  </g>\n </g>\n <defs>\n  <clipPath id=\"pe87ccaf904\">\n   <rect height=\"108.72\" width=\"558\" x=\"26.925\" y=\"22.318125\"/>\n  </clipPath>\n </defs>\n</svg>\n",
            "image/png": "[encoded data removed]"
          },
          "metadata": {
            "needs_background": "light"
          }
        }
      ],
      "source": [
        "fig = plt.figure(figsize=(10,2))\n",
        "print('point_numbers (min/max/mean):', points_numbers.min(), points_numbers.max(), int(points_numbers.mean()))\n",
        "plt.title('points numbers')\n",
        "n, bins, patches = plt.hist(points_numbers, bins=256, range=(1, pow(2,16)))\n",
        "plt.show()\n"
      ]
    },
    {
      "source": [
        "## Encoding"
      ],
      "cell_type": "markdown",
      "metadata": {}
    },
    {
      "cell_type": "code",
      "execution_count": 8,
      "metadata": {},
      "outputs": [],
      "source": [
        "from transform import compress_factorized, decompress_factorized"
      ]
    },
    {
      "cell_type": "code",
      "execution_count": 9,
      "metadata": {},
      "outputs": [],
      "source": [
        "import models.model_voxception as model\n",
        "# import models.model_simple as model\n",
        "ckpt_dir = \"./checkpoints/factorized/a2b3/\""
      ]
    },
    {
      "cell_type": "code",
      "execution_count": 10,
      "metadata": {
        "tags": []
      },
      "outputs": [
        {
          "output_type": "stream",
          "name": "stdout",
          "text": "===== Compress =====\nWARNING:tensorflow:From /home/yashraj/.local/lib/python3.6/site-packages/tensorflow/python/ops/resource_variable_ops.py:642: colocate_with (from tensorflow.python.framework.ops) is deprecated and will be removed in a future version.\nInstructions for updating:\nColocations handled automatically by placer.\nAnalysis Transform: 1537.4046s\nEntropy Encode: 3.7744s\n1567.6526634693146\n"
        }
      ],
      "source": [
        "start = time.time()\n",
        "strings, min_v, max_v, shape = compress_factorized(cubes, model, ckpt_dir)\n",
        "print(time.time() - start)"
      ]
    },
    {
      "cell_type": "code",
      "execution_count": 11,
      "metadata": {
        "tags": []
      },
      "outputs": [
        {
          "output_type": "stream",
          "name": "stdout",
          "text": "-1 <bound method _EagerTensorBase.numpy of <tf.Tensor: id=60094, shape=(), dtype=int32, numpy=1>>[202  16  16  16  16]\n"
        }
      ],
      "source": [
        "print(min_v.numpy(), max_v.numpy, shape.numpy())"
      ]
    },
    {
      "source": [
        "## Write Files"
      ],
      "cell_type": "markdown",
      "metadata": {}
    },
    {
      "cell_type": "code",
      "execution_count": 14,
      "metadata": {
        "tags": []
      },
      "outputs": [
        {
          "output_type": "stream",
          "name": "stdout",
          "text": "./compressed/ longdress_vox10_1300\n===== Write binary files =====\nTotal file size (Bytes): 2618286\nStrings (Bytes): 2617792\nNumbers of points (Bytes): 404\nPositions of cubes (Bytes): 90\n"
        }
      ],
      "source": [
        "from dataprocess.inout_bitstream import write_binary_files_factorized\n",
        "filename = os.path.split(input_file)[-1][:-4]\n",
        "rootdir = './compressed/'\n",
        "print(rootdir, filename)\n",
        "bytes_strings, bytes_pointnums, bytes_cubepos = write_binary_files_factorized(filename, strings.numpy(), points_numbers, cube_positions, min_v.numpy(), max_v.numpy(), shape.numpy(), rootdir)"
      ]
    },
    {
      "cell_type": "code",
      "execution_count": 16,
      "metadata": {
        "tags": []
      },
      "outputs": [
        {
          "output_type": "stream",
          "name": "stdout",
          "text": "b'longdress_vox10_1300.cubepos\\n'\nb'longdress_vox10_1300_cubepos.ply\\n'\nb'longdress_vox10_1300.pointnums\\n'\nb'longdress_vox10_1300.strings\\n'\n"
        }
      ],
      "source": [
        "import subprocess\n",
        "subp = subprocess.Popen(\"ls ./compressed/\", shell=True, stdout=subprocess.PIPE)\n",
        "c = subp.stdout.readline()\n",
        "while c:\n",
        "    print(c)\n",
        "    c = subp.stdout.readline()"
      ]
    },
    {
      "source": [
        "# Decompress\n",
        "\n",
        "### Read Files"
      ],
      "cell_type": "markdown",
      "metadata": {}
    },
    {
      "cell_type": "code",
      "execution_count": 18,
      "metadata": {
        "tags": []
      },
      "outputs": [
        {
          "output_type": "stream",
          "name": "stdout",
          "text": "===== Read binary files =====\n"
        }
      ],
      "source": [
        "from dataprocess.inout_bitstream import read_binary_files_factorized\n",
        "strings_d, points_numbers_d, cube_positions_d, min_v_d, max_v_d, shape_d = read_binary_files_factorized(filename, rootdir)"
      ]
    },
    {
      "source": [
        "### Decoding"
      ],
      "cell_type": "markdown",
      "metadata": {}
    },
    {
      "cell_type": "code",
      "execution_count": 19,
      "metadata": {
        "tags": []
      },
      "outputs": [
        {
          "output_type": "stream",
          "name": "stdout",
          "text": "===== Decompress =====\nEntropy Decode: 1.5874s\nSynthesis Transform: 1078.4483s\n"
        }
      ],
      "source": [
        "from transform import decompress_factorized\n",
        "cube_d = decompress_factorized(strings_d, min_v_d, max_v_d, shape_d, model, ckpt_dir)"
      ]
    },
    {
      "source": [
        "### Post Process"
      ],
      "cell_type": "markdown",
      "metadata": {}
    },
    {
      "cell_type": "code",
      "execution_count": 22,
      "metadata": {},
      "outputs": [],
      "source": [
        "from process import postprocess\n",
        "rho = 1.0\n",
        "output_file = filename + \"_rec.ply\"\n",
        "postprocess(output_file, cube_d.numpy(), points_numbers_d, cube_positions_d, scale, cube_size, rho)"
      ]
    },
    {
      "cell_type": "code",
      "execution_count": null,
      "metadata": {},
      "outputs": [],
      "source": []
    },
    {
      "source": [
        "# Metrics\n",
        "\n",
        "### bpp"
      ],
      "cell_type": "markdown",
      "metadata": {}
    },
    {
      "cell_type": "code",
      "execution_count": 23,
      "metadata": {},
      "outputs": [],
      "source": [
        "def get_points_number(filedir):\n",
        "    plyfile = open(filedir)\n",
        "    line = plyfile.readline()\n",
        "    while line.find(\"element vertex\") == -1:\n",
        "        line = plyfile.readline()\n",
        "    number = int(line.split(' ')[-1][:-1])\n",
        "    return number    "
      ]
    },
    {
      "cell_type": "code",
      "execution_count": 24,
      "metadata": {
        "tags": []
      },
      "outputs": [
        {
          "output_type": "stream",
          "name": "stdout",
          "text": "857966\n"
        }
      ],
      "source": [
        "N = get_points_number(input_file)\n",
        "print(N)"
      ]
    },
    {
      "cell_type": "code",
      "execution_count": 25,
      "metadata": {
        "tags": []
      },
      "outputs": [
        {
          "output_type": "stream",
          "name": "stdout",
          "text": "bpp:  24.4139\nstrings:  24.4093 points numbers:  0.0038 cubes positions:  0.0008\n"
        }
      ],
      "source": [
        "print(\"bpp: \", round(8*(bytes_strings + bytes_pointnums + bytes_cubepos)/float(N), 4))\n",
        "print(\"strings: \", round(8*bytes_strings/float(N),4), \"points numbers: \", round(8*bytes_pointnums/float(N),4), \"cubes positions: \", round(8*bytes_cubepos/float(N),4))"
      ]
    },
    {
      "source": [
        "## pc_error"
      ],
      "cell_type": "markdown",
      "metadata": {}
    },
    {
      "cell_type": "code",
      "execution_count": 26,
      "metadata": {
        "tags": []
      },
      "outputs": [
        {
          "output_type": "stream",
          "name": "stdout",
          "text": "b'PCC quality measurement software, version 0.13.4\\n'\nb'\\n'\nb'infile1:        figs/longdress_vox10_1300.ply\\n'\nb'infile2:        longdress_vox10_1300_rec.ply\\n'\nb'normal1:        figs/longdress_vox10_1300.ply\\n'\nb'singlePass:     0\\n'\nb'hausdorff:      1\\n'\nb'color:          0\\n'\nb'lidar:          0\\n'\nb'resolution:     1023\\n'\nb'dropDuplicates: 2\\n'\nb'neighborsProc:  1\\n'\nb'averageNormals: 1\\n'\nb'nbThreads:      1\\n'\nb'\\n'\nb'Verifying if the data is loaded correctly.. The last point is: 256 902 320\\n'\nb'Reading file 1 done.\\n'\nb'Error reading normal reference point cloud:figs/longdress_vox10_1300.ply\\n'\nNone\n"
        }
      ],
      "source": [
        "import subprocess\n",
        "\n",
        "subp=subprocess.Popen(\"myutils/pc_error_d\" \n",
        "                      + ' -a ' + input_file\n",
        "                      + ' -b ' + output_file\n",
        "                      +' -n ' + input_file \n",
        "                      + ' --hausdorff=1 '\n",
        "                      + \" -r \"+str(res-1), \n",
        "                      shell=True, stdout=subprocess.PIPE)\n",
        "\n",
        "c=subp.stdout.readline()\n",
        "while c:\n",
        "    print(c)\n",
        "    c=subp.stdout.readline()\n",
        "\n",
        "print(subp.returncode)"
      ]
    },
    {
      "cell_type": "code",
      "execution_count": 27,
      "metadata": {},
      "outputs": [],
      "source": [
        "import open3d as o3d\n",
        "pcd = o3d.io.read_point_cloud(input_file)"
      ]
    },
    {
      "cell_type": "code",
      "execution_count": 28,
      "metadata": {},
      "outputs": [],
      "source": [
        "o3d.visualization.draw_geometries([pcd])"
      ]
    },
    {
      "cell_type": "code",
      "execution_count": 30,
      "metadata": {
        "tags": []
      },
      "outputs": [
        {
          "output_type": "stream",
          "name": "stdout",
          "text": "\u001b[1;33m[Open3D WARNING] Read PLY failed: unable to open file: longdress_vox10_1300_rec.ply\u001b[0;m\n"
        }
      ],
      "source": [
        "pcd_rec = o3d.io.read_point_cloud(output_file)\n",
        "o3d.visualization.draw_geometries([pcd_rec])"
      ]
    },
    {
      "cell_type": "code",
      "execution_count": null,
      "metadata": {},
      "outputs": [],
      "source": []
    }
  ]
}