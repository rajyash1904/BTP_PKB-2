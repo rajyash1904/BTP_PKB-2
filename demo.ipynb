{
  "nbformat": 4,
  "nbformat_minor": 0,
  "metadata": {
    "colab": {
      "name": "main.ipynb",
      "provenance": [],
      "collapsed_sections": [],
      "include_colab_link": true
    },
    "kernelspec": {
      "name": "python3",
      "display_name": "Python 3.6.12 64-bit ('env3': conda)",
      "metadata": {
        "interpreter": {
          "hash": "96577a8ae677715224a155aadf443073c88bd8ef74883d435f683b6fa75e1050"
        }
      }
    }
  },
  "cells": [
    {
      "cell_type": "markdown",
      "metadata": {
        "id": "view-in-github",
        "colab_type": "text"
      },
      "source": [
        "<a href=\"https://colab.research.google.com/github/rajyash1904/BTP_PKB-2/blob/main/main.ipynb\" target=\"_parent\"><img src=\"https://colab.research.google.com/assets/colab-badge.svg\" alt=\"Open In Colab\"/></a>"
      ]
    },
    {
      "cell_type": "code",
      "metadata": {
        "id": "vLhLmrhkr5po",
        "colab": {
          "base_uri": "https://localhost:8080/"
        },
        "outputId": "d50cfd63-57aa-41e6-9730-5b037d84d300"
      },
      "source": [
        "# New project"
      ],
      "execution_count": 11,
      "outputs": []
    },
    {
      "cell_type": "code",
      "execution_count": 12,
      "metadata": {},
      "outputs": [],
      "source": [
        "import os\n",
        "import time\n",
        "import numpy as np\n",
        "import tensorflow as tf\n",
        "import matplotlib.pylab as plt\n",
        "import pandas as pd\n",
        "tf.enable_eager_execution()"
      ]
    },
    {
      "cell_type": "code",
      "execution_count": 13,
      "metadata": {},
      "outputs": [
        {
          "output_type": "stream",
          "name": "stdout",
          "text": [
            "1.13.1\nTrue\n"
          ]
        }
      ],
      "source": [
        "print(tf.__version__)\n",
        "print(tf.test.is_gpu_available())"
      ]
    },
    {
      "source": [
        "Set GPU/CPU"
      ],
      "cell_type": "markdown",
      "metadata": {}
    },
    {
      "cell_type": "code",
      "execution_count": 16,
      "metadata": {},
      "outputs": [],
      "source": [
        "# OS.ENVIRON['CUDA_VISIBLE_DEVICES']=\"\" #ONLY CPU\n",
        "\n",
        "config = tf.ConfigProto()\n",
        "#config = tf.compat.v1.ConfigProto\n",
        "config.gpu_options.per_process_gpu_memory_fraction = 0.5\n",
        "config.gpu_options.allow_growth = True\n",
        "config.log_device_placement = True\n",
        "#config.device_count={'gpu':0}\n",
        "sess = tf.Session(config=config)"
      ]
    },
    {
      "source": [
        "## COMPRESSION\n",
        "\n",
        "\n",
        "Pre-Process"
      ],
      "cell_type": "markdown",
      "metadata": {}
    },
    {
      "cell_type": "code",
      "execution_count": 17,
      "metadata": {},
      "outputs": [],
      "source": [
        "from process import preprocess"
      ]
    },
    {
      "cell_type": "code",
      "execution_count": 8,
      "metadata": {},
      "outputs": [],
      "source": [
        "input_file = 'testdata/8iVFB/longdress_vox10_1300.ply'\n",
        "scale = 1\n",
        "cube_size = 64\n",
        "min_num = 64\n",
        "res = 1024"
      ]
    },
    {
      "cell_type": "code",
      "execution_count": 9,
      "metadata": {},
      "outputs": [
        {
          "output_type": "stream",
          "name": "stdout",
          "text": [
            "==== Preprocess ====\nScaling: 0.0s\n"
          ]
        },
        {
          "output_type": "error",
          "ename": "NameError",
          "evalue": "name 'load_points' is not defined",
          "traceback": [
            "\u001b[1;31m---------------------------------------------------------------------------\u001b[0m",
            "\u001b[1;31mNameError\u001b[0m                                 Traceback (most recent call last)",
            "\u001b[1;32m<ipython-input-9-95cb30bc27ba>\u001b[0m in \u001b[0;36m<module>\u001b[1;34m\u001b[0m\n\u001b[1;32m----> 1\u001b[1;33m \u001b[0mcubes\u001b[0m\u001b[1;33m,\u001b[0m \u001b[0mcube_positions\u001b[0m\u001b[1;33m,\u001b[0m \u001b[0mpoins_numbers\u001b[0m \u001b[1;33m=\u001b[0m \u001b[0mpreprocess\u001b[0m\u001b[1;33m(\u001b[0m\u001b[0minput_file\u001b[0m\u001b[1;33m,\u001b[0m \u001b[0mscale\u001b[0m\u001b[1;33m,\u001b[0m \u001b[0mcube_size\u001b[0m\u001b[1;33m,\u001b[0m \u001b[0mmin_num\u001b[0m\u001b[1;33m)\u001b[0m\u001b[1;33m\u001b[0m\u001b[1;33m\u001b[0m\u001b[0m\n\u001b[0m",
            "\u001b[1;32me:\\OneDrive - Indian Institute of Technology Guwahati\\D\\NOTES\\8. Eighth Sem\\BTP\\BTP_PKB-2\\process.py\u001b[0m in \u001b[0;36mpreprocess\u001b[1;34m(input_file, scale, cube_size, min_num)\u001b[0m\n\u001b[0;32m     28\u001b[0m     \u001b[1;31m#Partitioning\u001b[0m\u001b[1;33m\u001b[0m\u001b[1;33m\u001b[0m\u001b[1;33m\u001b[0m\u001b[0m\n\u001b[0;32m     29\u001b[0m     \u001b[0mstart\u001b[0m \u001b[1;33m=\u001b[0m \u001b[0mtime\u001b[0m\u001b[1;33m.\u001b[0m\u001b[0mtime\u001b[0m\u001b[1;33m(\u001b[0m\u001b[1;33m)\u001b[0m\u001b[1;33m\u001b[0m\u001b[1;33m\u001b[0m\u001b[0m\n\u001b[1;32m---> 30\u001b[1;33m     \u001b[0mpartitioned_points\u001b[0m\u001b[1;33m,\u001b[0m \u001b[0mcube_positions\u001b[0m \u001b[1;33m=\u001b[0m \u001b[0mload_points\u001b[0m\u001b[1;33m(\u001b[0m\u001b[0mscaling_file\u001b[0m\u001b[1;33m,\u001b[0m \u001b[0mcube_size\u001b[0m\u001b[1;33m,\u001b[0m \u001b[0mmin_num\u001b[0m\u001b[1;33m)\u001b[0m\u001b[1;33m\u001b[0m\u001b[1;33m\u001b[0m\u001b[0m\n\u001b[0m\u001b[0;32m     31\u001b[0m     \u001b[0mprint\u001b[0m\u001b[1;33m(\u001b[0m\u001b[1;34m\"Partition: {}s\"\u001b[0m\u001b[1;33m.\u001b[0m\u001b[0mformat\u001b[0m\u001b[1;33m(\u001b[0m\u001b[0mround\u001b[0m\u001b[1;33m(\u001b[0m\u001b[0mtime\u001b[0m\u001b[1;33m.\u001b[0m\u001b[0mtime\u001b[0m\u001b[1;33m(\u001b[0m\u001b[1;33m)\u001b[0m\u001b[1;33m-\u001b[0m\u001b[0mstart\u001b[0m\u001b[1;33m,\u001b[0m\u001b[1;36m4\u001b[0m\u001b[1;33m)\u001b[0m\u001b[1;33m)\u001b[0m\u001b[1;33m)\u001b[0m\u001b[1;33m\u001b[0m\u001b[1;33m\u001b[0m\u001b[0m\n\u001b[0;32m     32\u001b[0m     \u001b[1;32mif\u001b[0m \u001b[0mscale\u001b[0m \u001b[1;33m!=\u001b[0m \u001b[1;36m1\u001b[0m\u001b[1;33m:\u001b[0m\u001b[1;33m\u001b[0m\u001b[1;33m\u001b[0m\u001b[0m\n",
            "\u001b[1;31mNameError\u001b[0m: name 'load_points' is not defined"
          ]
        }
      ],
      "source": [
        "cubes, cube_positions, poins_numbers = preprocess(input_file, scale, cube_size, min_num)"
      ]
    },
    {
      "cell_type": "code",
      "execution_count": null,
      "metadata": {},
      "outputs": [],
      "source": [
        "fig = plt.figure(figsize=(10,2))\n",
        "print('point_numbers (min/max/mean):', points_numbers.min(), point_numbers.max(), int(points_numbers.mean()))\n",
        "plt.title('points numbers')\n",
        "n, bins, patches = plt.hist(points_numbers, bins=256, range=(1, pow(2,16)))\n",
        "plt.show()\n"
      ]
    }
  ]
}